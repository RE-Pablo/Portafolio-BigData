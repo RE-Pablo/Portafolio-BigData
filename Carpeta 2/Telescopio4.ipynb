{
  "nbformat": 4,
  "nbformat_minor": 0,
  "metadata": {
    "colab": {
      "provenance": []
    },
    "kernelspec": {
      "name": "python3",
      "display_name": "Python 3"
    },
    "language_info": {
      "name": "python"
    }
  },
  "cells": [
    {
      "cell_type": "code",
      "execution_count": null,
      "metadata": {
        "colab": {
          "base_uri": "https://localhost:8080/"
        },
        "id": "mUX41-QYiO45",
        "outputId": "4356f2d0-51e9-444f-f5cf-a02d7fb4bde9"
      },
      "outputs": [
        {
          "output_type": "stream",
          "name": "stdout",
          "text": [
            "--2023-10-01 23:21:02--  https://www.dropbox.com/s/wy99ezotv49el49/example_callisto_gamma_4100m_1TeV_100TeV_55Tel_Area_250x250_fov8g.csv?dl=0\n",
            "Resolving www.dropbox.com (www.dropbox.com)... 162.125.1.18, 2620:100:6016:18::a27d:112\n",
            "Connecting to www.dropbox.com (www.dropbox.com)|162.125.1.18|:443... connected.\n",
            "HTTP request sent, awaiting response... 302 Found\n",
            "Location: /s/raw/wy99ezotv49el49/example_callisto_gamma_4100m_1TeV_100TeV_55Tel_Area_250x250_fov8g.csv [following]\n",
            "--2023-10-01 23:21:02--  https://www.dropbox.com/s/raw/wy99ezotv49el49/example_callisto_gamma_4100m_1TeV_100TeV_55Tel_Area_250x250_fov8g.csv\n",
            "Reusing existing connection to www.dropbox.com:443.\n",
            "HTTP request sent, awaiting response... 302 Found\n",
            "Location: https://uce7ad22430da5d870340eae2be9.dl.dropboxusercontent.com/cd/0/inline/CEycFEYqoEUefn3W6cMaiL43xJGeBzHZhOHzI6LiC4murlIZ6HQYSt9PLlGVlSR2bP9pg1ISul2NZm1-8_vOfF1SfzWgw7JK_zyeLewD_v5ZFrPWnqiWtKtPN0R_rV5Upw0/file# [following]\n",
            "--2023-10-01 23:21:02--  https://uce7ad22430da5d870340eae2be9.dl.dropboxusercontent.com/cd/0/inline/CEycFEYqoEUefn3W6cMaiL43xJGeBzHZhOHzI6LiC4murlIZ6HQYSt9PLlGVlSR2bP9pg1ISul2NZm1-8_vOfF1SfzWgw7JK_zyeLewD_v5ZFrPWnqiWtKtPN0R_rV5Upw0/file\n",
            "Resolving uce7ad22430da5d870340eae2be9.dl.dropboxusercontent.com (uce7ad22430da5d870340eae2be9.dl.dropboxusercontent.com)... 162.125.1.15, 2620:100:6016:15::a27d:10f\n",
            "Connecting to uce7ad22430da5d870340eae2be9.dl.dropboxusercontent.com (uce7ad22430da5d870340eae2be9.dl.dropboxusercontent.com)|162.125.1.15|:443... connected.\n",
            "HTTP request sent, awaiting response... 200 OK\n",
            "Length: 319716716 (305M) [text/plain]\n",
            "Saving to: ‘example_callisto_gamma_4100m_1TeV_100TeV_55Tel_Area_250x250_fov8g.csv’\n",
            "\n",
            "example_callisto_ga 100%[===================>] 304.91M   171MB/s    in 1.8s    \n",
            "\n",
            "2023-10-01 23:21:04 (171 MB/s) - ‘example_callisto_gamma_4100m_1TeV_100TeV_55Tel_Area_250x250_fov8g.csv’ saved [319716716/319716716]\n",
            "\n"
          ]
        }
      ],
      "source": [
        "#!wget https://www.dropbox.com/s/wy99ezotv49el49/example_callisto_gamma_4100m_1TeV_100TeV_55Tel_Area_250x250_fov8g.csv?dl=0 -O example_callisto_gamma_4100m_1TeV_100TeV_55Tel_Area_250x250_fov8g.csv"
      ]
    },
    {
      "cell_type": "code",
      "source": [
        "# Importando librerías y datos\n",
        "import numpy as np\n",
        "import pandas as pd\n",
        "from sklearn.cluster import KMeans\n",
        "import matplotlib.pyplot as plt\n",
        "\n",
        "df = pd.read_csv('/content/example_callisto_gamma_4100m_1TeV_100TeV_55Tel_Area_250x250_fov8g.csv',sep=\" \",usecols=['fPhot','fArrivalTime'])#,dtype={'fId':str}"
      ],
      "metadata": {
        "id": "zlg6jf5kiVra"
      },
      "execution_count": null,
      "outputs": []
    },
    {
      "cell_type": "code",
      "source": [
        "print(len(df))"
      ],
      "metadata": {
        "colab": {
          "base_uri": "https://localhost:8080/"
        },
        "id": "9JXSNYpLiXku",
        "outputId": "e06d2e75-e99f-4adc-e8b4-95550af188e1"
      },
      "execution_count": null,
      "outputs": [
        {
          "output_type": "stream",
          "name": "stdout",
          "text": [
            "9965440\n"
          ]
        }
      ]
    },
    {
      "cell_type": "code",
      "source": [
        "corr = df.corr()\n",
        "corr.style.background_gradient(cmap=\"Greens\")"
      ],
      "metadata": {
        "colab": {
          "base_uri": "https://localhost:8080/",
          "height": 112
        },
        "id": "VKACZFWyiZG8",
        "outputId": "c307936d-d7a5-418c-fbf0-0eca7caf7e68"
      },
      "execution_count": null,
      "outputs": [
        {
          "output_type": "execute_result",
          "data": {
            "text/plain": [
              "<pandas.io.formats.style.Styler at 0x7c6b7d947010>"
            ],
            "text/html": [
              "<style type=\"text/css\">\n",
              "#T_5bf90_row0_col0, #T_5bf90_row1_col1 {\n",
              "  background-color: #00441b;\n",
              "  color: #f1f1f1;\n",
              "}\n",
              "#T_5bf90_row0_col1, #T_5bf90_row1_col0 {\n",
              "  background-color: #f7fcf5;\n",
              "  color: #000000;\n",
              "}\n",
              "</style>\n",
              "<table id=\"T_5bf90\" class=\"dataframe\">\n",
              "  <thead>\n",
              "    <tr>\n",
              "      <th class=\"blank level0\" >&nbsp;</th>\n",
              "      <th id=\"T_5bf90_level0_col0\" class=\"col_heading level0 col0\" >fPhot</th>\n",
              "      <th id=\"T_5bf90_level0_col1\" class=\"col_heading level0 col1\" >fArrivalTime</th>\n",
              "    </tr>\n",
              "  </thead>\n",
              "  <tbody>\n",
              "    <tr>\n",
              "      <th id=\"T_5bf90_level0_row0\" class=\"row_heading level0 row0\" >fPhot</th>\n",
              "      <td id=\"T_5bf90_row0_col0\" class=\"data row0 col0\" >1.000000</td>\n",
              "      <td id=\"T_5bf90_row0_col1\" class=\"data row0 col1\" >0.027845</td>\n",
              "    </tr>\n",
              "    <tr>\n",
              "      <th id=\"T_5bf90_level0_row1\" class=\"row_heading level0 row1\" >fArrivalTime</th>\n",
              "      <td id=\"T_5bf90_row1_col0\" class=\"data row1 col0\" >0.027845</td>\n",
              "      <td id=\"T_5bf90_row1_col1\" class=\"data row1 col1\" >1.000000</td>\n",
              "    </tr>\n",
              "  </tbody>\n",
              "</table>\n"
            ]
          },
          "metadata": {},
          "execution_count": 28
        }
      ]
    },
    {
      "cell_type": "code",
      "source": [
        "# Definir un umbral\n",
        "umbral = 25\n",
        "\n",
        "# Crear una nueva columna llamada 'label' basada en la columna 'fPhot'\n",
        "df['label'] = np.where(df['fPhot'] <= umbral, 'ruido', 'no_ruido')\n",
        "\n",
        "# Seleccionar solo las columnas 'fArrivalTime' y 'fPhot' para usar en K-means\n",
        "X = df[['fArrivalTime', 'fPhot']].values"
      ],
      "metadata": {
        "id": "LlYGdkgtigBm"
      },
      "execution_count": null,
      "outputs": []
    },
    {
      "cell_type": "code",
      "source": [
        "df.plot.scatter(x='fPhot', y='label', c='DarkGreen')\n",
        "plt.show()"
      ],
      "metadata": {
        "colab": {
          "base_uri": "https://localhost:8080/",
          "height": 449
        },
        "id": "jRLO_OPWyJa-",
        "outputId": "ee14fdf3-689e-4f75-b424-5356238ae1c1"
      },
      "execution_count": null,
      "outputs": [
        {
          "output_type": "display_data",
          "data": {
            "text/plain": [
              "<Figure size 640x480 with 1 Axes>"
            ],
            "image/png": "[encoded data removed]"
          },
          "metadata": {}
        }
      ]
    },
    {
      "cell_type": "code",
      "source": [
        "df"
      ],
      "metadata": {
        "id": "QbtV83_Rn_NM"
      },
      "execution_count": null,
      "outputs": []
    },
    {
      "cell_type": "code",
      "source": [
        "X"
      ],
      "metadata": {
        "colab": {
          "base_uri": "https://localhost:8080/"
        },
        "id": "H0c9zsWDlWiH",
        "outputId": "f0b4e692-29c0-46b4-d169-a60bd7e967f9"
      },
      "execution_count": null,
      "outputs": [
        {
          "output_type": "execute_result",
          "data": {
            "text/plain": [
              "array([[164.99    ,  -0.861328],\n",
              "       [131.935   ,  -1.75391 ],\n",
              "       [136.663   ,  -1.53125 ],\n",
              "       ...,\n",
              "       [ -1.      ,   0.      ],\n",
              "       [ -1.      ,   0.      ],\n",
              "       [ -1.      ,   0.      ]])"
            ]
          },
          "metadata": {},
          "execution_count": 25
        }
      ]
    },
    {
      "cell_type": "code",
      "source": [
        "n_clusters = 3\n",
        "\n",
        "# Crear una instancia del modelo K-means\n",
        "kmeans = KMeans(n_clusters=n_clusters)\n",
        "\n",
        "# Ajustar el modelo a tus datos\n",
        "kmeans.fit(X)"
      ],
      "metadata": {
        "colab": {
          "base_uri": "https://localhost:8080/",
          "height": 130
        },
        "id": "OoV3EO8kijCr",
        "outputId": "2a21189d-b966-4258-8872-33c018777bbb"
      },
      "execution_count": null,
      "outputs": [
        {
          "output_type": "stream",
          "name": "stderr",
          "text": [
            "/usr/local/lib/python3.10/dist-packages/sklearn/cluster/_kmeans.py:870: FutureWarning: The default value of `n_init` will change from 10 to 'auto' in 1.4. Set the value of `n_init` explicitly to suppress the warning\n",
            "  warnings.warn(\n"
          ]
        },
        {
          "output_type": "execute_result",
          "data": {
            "text/plain": [
              "KMeans(n_clusters=3)"
            ],
            "text/html": [
              "<style>#sk-container-id-1 {color: black;background-color: white;}#sk-container-id-1 pre{padding: 0;}#sk-container-id-1 div.sk-toggleable {background-color: white;}#sk-container-id-1 label.sk-toggleable__label {cursor: pointer;display: block;width: 100%;margin-bottom: 0;padding: 0.3em;box-sizing: border-box;text-align: center;}#sk-container-id-1 label.sk-toggleable__label-arrow:before {content: \"▸\";float: left;margin-right: 0.25em;color: #696969;}#sk-container-id-1 label.sk-toggleable__label-arrow:hover:before {color: black;}#sk-container-id-1 div.sk-estimator:hover label.sk-toggleable__label-arrow:before {color: black;}#sk-container-id-1 div.sk-toggleable__content {max-height: 0;max-width: 0;overflow: hidden;text-align: left;background-color: #f0f8ff;}#sk-container-id-1 div.sk-toggleable__content pre {margin: 0.2em;color: black;border-radius: 0.25em;background-color: #f0f8ff;}#sk-container-id-1 input.sk-toggleable__control:checked~div.sk-toggleable__content {max-height: 200px;max-width: 100%;overflow: auto;}#sk-container-id-1 input.sk-toggleable__control:checked~label.sk-toggleable__label-arrow:before {content: \"▾\";}#sk-container-id-1 div.sk-estimator input.sk-toggleable__control:checked~label.sk-toggleable__label {background-color: #d4ebff;}#sk-container-id-1 div.sk-label input.sk-toggleable__control:checked~label.sk-toggleable__label {background-color: #d4ebff;}#sk-container-id-1 input.sk-hidden--visually {border: 0;clip: rect(1px 1px 1px 1px);clip: rect(1px, 1px, 1px, 1px);height: 1px;margin: -1px;overflow: hidden;padding: 0;position: absolute;width: 1px;}#sk-container-id-1 div.sk-estimator {font-family: monospace;background-color: #f0f8ff;border: 1px dotted black;border-radius: 0.25em;box-sizing: border-box;margin-bottom: 0.5em;}#sk-container-id-1 div.sk-estimator:hover {background-color: #d4ebff;}#sk-container-id-1 div.sk-parallel-item::after {content: \"\";width: 100%;border-bottom: 1px solid gray;flex-grow: 1;}#sk-container-id-1 div.sk-label:hover label.sk-toggleable__label {background-color: #d4ebff;}#sk-container-id-1 div.sk-serial::before {content: \"\";position: absolute;border-left: 1px solid gray;box-sizing: border-box;top: 0;bottom: 0;left: 50%;z-index: 0;}#sk-container-id-1 div.sk-serial {display: flex;flex-direction: column;align-items: center;background-color: white;padding-right: 0.2em;padding-left: 0.2em;position: relative;}#sk-container-id-1 div.sk-item {position: relative;z-index: 1;}#sk-container-id-1 div.sk-parallel {display: flex;align-items: stretch;justify-content: center;background-color: white;position: relative;}#sk-container-id-1 div.sk-item::before, #sk-container-id-1 div.sk-parallel-item::before {content: \"\";position: absolute;border-left: 1px solid gray;box-sizing: border-box;top: 0;bottom: 0;left: 50%;z-index: -1;}#sk-container-id-1 div.sk-parallel-item {display: flex;flex-direction: column;z-index: 1;position: relative;background-color: white;}#sk-container-id-1 div.sk-parallel-item:first-child::after {align-self: flex-end;width: 50%;}#sk-container-id-1 div.sk-parallel-item:last-child::after {align-self: flex-start;width: 50%;}#sk-container-id-1 div.sk-parallel-item:only-child::after {width: 0;}#sk-container-id-1 div.sk-dashed-wrapped {border: 1px dashed gray;margin: 0 0.4em 0.5em 0.4em;box-sizing: border-box;padding-bottom: 0.4em;background-color: white;}#sk-container-id-1 div.sk-label label {font-family: monospace;font-weight: bold;display: inline-block;line-height: 1.2em;}#sk-container-id-1 div.sk-label-container {text-align: center;}#sk-container-id-1 div.sk-container {/* jupyter's `normalize.less` sets `[hidden] { display: none; }` but bootstrap.min.css set `[hidden] { display: none !important; }` so we also need the `!important` here to be able to override the default hidden behavior on the sphinx rendered scikit-learn.org. See: https://github.com/scikit-learn/scikit-learn/issues/21755 */display: inline-block !important;position: relative;}#sk-container-id-1 div.sk-text-repr-fallback {display: none;}</style><div id=\"sk-container-id-1\" class=\"sk-top-container\"><div class=\"sk-text-repr-fallback\"><pre>KMeans(n_clusters=3)</pre><b>In a Jupyter environment, please rerun this cell to show the HTML representation or trust the notebook. <br />On GitHub, the HTML representation is unable to render, please try loading this page with nbviewer.org.</b></div><div class=\"sk-container\" hidden><div class=\"sk-item\"><div class=\"sk-estimator sk-toggleable\"><input class=\"sk-toggleable__control sk-hidden--visually\" id=\"sk-estimator-id-1\" type=\"checkbox\" checked><label for=\"sk-estimator-id-1\" class=\"sk-toggleable__label sk-toggleable__label-arrow\">KMeans</label><div class=\"sk-toggleable__content\"><pre>KMeans(n_clusters=3)</pre></div></div></div></div></div>"
            ]
          },
          "metadata": {},
          "execution_count": 7
        }
      ]
    },
    {
      "cell_type": "code",
      "source": [
        "# Obtener las etiquetas de cluster para cada punto de datos\n",
        "labels = kmeans.labels_\n",
        "\n",
        "# Obtener los centroides de los clusters\n",
        "centroids = kmeans.cluster_centers_"
      ],
      "metadata": {
        "id": "gJTHHJ81imeW"
      },
      "execution_count": null,
      "outputs": []
    },
    {
      "cell_type": "code",
      "source": [
        "labels"
      ],
      "metadata": {
        "colab": {
          "base_uri": "https://localhost:8080/"
        },
        "id": "3C_UjdoJoHbz",
        "outputId": "bfaae439-3811-4549-e2f9-7383f3725dc1"
      },
      "execution_count": null,
      "outputs": [
        {
          "output_type": "execute_result",
          "data": {
            "text/plain": [
              "array([2, 0, 0, ..., 1, 1, 1], dtype=int32)"
            ]
          },
          "metadata": {},
          "execution_count": 14
        }
      ]
    },
    {
      "cell_type": "code",
      "source": [],
      "metadata": {
        "id": "xfVnV57Zyert"
      },
      "execution_count": null,
      "outputs": []
    },
    {
      "cell_type": "code",
      "source": [
        "# Crear una figura\n",
        "plt.figure(figsize=(8, 6))\n",
        "\n",
        "# Representar los puntos de datos de acuerdo a las etiquetas\n",
        "plt.scatter(X[:, 0], X[:, 1], c=labels, cmap='viridis', marker='o', s=50)\n",
        "\n",
        "# Representar los centroides de los clusters\n",
        "plt.scatter(centroids[:, 0], centroids[:, 1], marker='X', s=200, c='red', label='Centroides')\n",
        "\n",
        "# Configurar etiquetas de los ejes\n",
        "plt.xlabel('fArrivalTime')\n",
        "plt.ylabel('fPhot')\n",
        "\n",
        "# Configurar leyenda\n",
        "plt.legend()\n",
        "\n",
        "# Mostrar el gráfico\n",
        "plt.title('Resultados de K-means Clustering')\n",
        "plt.show()"
      ],
      "metadata": {
        "colab": {
          "base_uri": "https://localhost:8080/",
          "height": 564
        },
        "id": "EmFFQkDbinGh",
        "outputId": "fb08500b-2620-41ac-9253-8e27d50eea23"
      },
      "execution_count": null,
      "outputs": [
        {
          "output_type": "display_data",
          "data": {
            "text/plain": [
              "<Figure size 800x600 with 1 Axes>"
            ],
            "image/png": "[encoded data removed]"
          },
          "metadata": {}
        }
      ]
    },
    {
      "cell_type": "code",
      "source": [],
      "metadata": {
        "id": "eilx71r1jLz1"
      },
      "execution_count": null,
      "outputs": []
    },
    {
      "cell_type": "code",
      "source": [
        "suma_ruido = ruido.groupby('label').count()\n",
        "suma_señal = señal.groupby('label').count()\n",
        "comprobacion_1 = suma_ruido['fPhot'].sum() + suma_señal['fPhot'].sum()\n",
        "\n",
        "# Suma de filas por label\n",
        "print(\"Conteo de filas con fPhot <= 25 por etiqueta: {}\".format(suma_ruido['fPhot'].sum()))\n",
        "\n",
        "print(\"\\nConteo de filas con fPhot > 25 por etiqueta: {}\".format(suma_señal['fPhot'].sum()))\n",
        "\n",
        "# Comprobar\n",
        "print(\"\\nComprobación: {}\".format(comprobacion_1))"
      ],
      "metadata": {
        "colab": {
          "base_uri": "https://localhost:8080/"
        },
        "id": "pNCyY4B5eEW8",
        "outputId": "ed9cd568-66e1-45f4-925c-4c7528d88935"
      },
      "execution_count": null,
      "outputs": [
        {
          "output_type": "stream",
          "name": "stdout",
          "text": [
            "Conteo de filas con fPhot <= 25 por etiqueta: 9650896\n",
            "\n",
            "Conteo de filas con fPhot > 25 por etiqueta: 173020\n",
            "\n",
            "Comprobación: 9823916\n"
          ]
        }
      ]
    },
    {
      "cell_type": "code",
      "source": [
        "suma_labels_ruido = X[X['label'].isin(labels_ruido)].label.value_counts().sum()\n",
        "suma_labels_señal = X[X['label'].isin(labels_señal)].label.value_counts().sum()\n",
        "comprobacion_2 = suma_labels_ruido + suma_labels_señal\n",
        "\n",
        "# Suma de filas por label\n",
        "print(\"Conteo de filas con fPhot <= 25 por etiqueta: {}\".format(suma_labels_ruido))\n",
        "\n",
        "print(\"\\nConteo de filas con fPhot > 25 por etiqueta: {}\".format(suma_labels_señal))\n",
        "\n",
        "# Comprobar\n",
        "print(\"\\nComprobación: {}\".format(comprobacion_2))"
      ],
      "metadata": {
        "colab": {
          "base_uri": "https://localhost:8080/"
        },
        "id": "uYFJozffS_0-",
        "outputId": "8ff3eda1-62ca-4803-8a69-8ba87a1f9676"
      },
      "execution_count": null,
      "outputs": [
        {
          "output_type": "stream",
          "name": "stdout",
          "text": [
            "Conteo de filas con fPhot <= 25 por etiqueta: 9644797\n",
            "\n",
            "Conteo de filas con fPhot > 25 por etiqueta: 320643\n",
            "\n",
            "Comprobación: 9965440\n"
          ]
        }
      ]
    }
  ]
}