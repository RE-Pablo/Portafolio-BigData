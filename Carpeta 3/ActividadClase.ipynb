{
  "nbformat": 4,
  "nbformat_minor": 0,
  "metadata": {
    "colab": {
      "provenance": []
    },
    "kernelspec": {
      "name": "python3",
      "display_name": "Python 3"
    },
    "language_info": {
      "name": "python"
    }
  },
  "cells": [
    {
      "cell_type": "markdown",
      "source": [
        "Autor: Pablo Elías Ramírez Escalante\n",
        "\n",
        "---\n",
        "\n",
        "\n",
        "Fecha: 20/abril/2023"
      ],
      "metadata": {
        "id": "R68GzvASHjiF"
      }
    },
    {
      "cell_type": "code",
      "execution_count": 1,
      "metadata": {
        "id": "C-u-w5y38YmI"
      },
      "outputs": [],
      "source": [
        "%%capture\n",
        "!pip install rpy2==3.5.1"
      ]
    },
    {
      "cell_type": "code",
      "source": [
        "%load_ext rpy2.ipython"
      ],
      "metadata": {
        "id": "9ibYG2En9hAF"
      },
      "execution_count": 2,
      "outputs": []
    },
    {
      "cell_type": "code",
      "source": [
        "from google.colab import drive\n",
        "drive.mount(\"/content/drive\", force_remount=True)"
      ],
      "metadata": {
        "colab": {
          "base_uri": "https://localhost:8080/",
          "height": 0
        },
        "id": "Lry4Fwls98rx",
        "outputId": "b8baf3bf-a2f2-436e-b74a-d3539025ae94"
      },
      "execution_count": 3,
      "outputs": [
        {
          "output_type": "stream",
          "name": "stdout",
          "text": [
            "Mounted at /content/drive\n"
          ]
        }
      ]
    },
    {
      "cell_type": "code",
      "source": [
        "%%R\n",
        "library(readr)\n",
        "library(magrittr)\n",
        "library(dplyr)"
      ],
      "metadata": {
        "colab": {
          "base_uri": "https://localhost:8080/",
          "height": 0
        },
        "id": "NckInfsa-msl",
        "outputId": "579c03ec-7202-4b02-9bfa-c57ce00f359b"
      },
      "execution_count": 4,
      "outputs": [
        {
          "output_type": "stream",
          "name": "stderr",
          "text": [
            "WARNING:rpy2.rinterface_lib.callbacks:R[write to console]: \n",
            "Attaching package: ‘dplyr’\n",
            "\n",
            "\n",
            "WARNING:rpy2.rinterface_lib.callbacks:R[write to console]: The following objects are masked from ‘package:stats’:\n",
            "\n",
            "    filter, lag\n",
            "\n",
            "\n",
            "WARNING:rpy2.rinterface_lib.callbacks:R[write to console]: The following objects are masked from ‘package:base’:\n",
            "\n",
            "    intersect, setdiff, setequal, union\n",
            "\n",
            "\n"
          ]
        }
      ]
    },
    {
      "cell_type": "code",
      "source": [
        "%%R\n",
        "data <- read.csv(\"drive/MyDrive/student-mat.csv\")"
      ],
      "metadata": {
        "id": "6-_tuQ38_Idq"
      },
      "execution_count": 5,
      "outputs": []
    },
    {
      "cell_type": "code",
      "source": [
        "%%R\n",
        "length(rownames(data))"
      ],
      "metadata": {
        "colab": {
          "base_uri": "https://localhost:8080/",
          "height": 0
        },
        "id": "d2mecJeTAj7Y",
        "outputId": "4eb0496b-c576-4abf-eda2-ae96325232c9"
      },
      "execution_count": 6,
      "outputs": [
        {
          "output_type": "stream",
          "name": "stdout",
          "text": [
            "[1] 395\n"
          ]
        }
      ]
    },
    {
      "cell_type": "code",
      "source": [
        "%%R\n",
        "length(colnames(data))"
      ],
      "metadata": {
        "colab": {
          "base_uri": "https://localhost:8080/",
          "height": 0
        },
        "id": "v8RcIAmoBODS",
        "outputId": "5a8868cd-a9ec-445d-b930-b41b28f30a3b"
      },
      "execution_count": 7,
      "outputs": [
        {
          "output_type": "stream",
          "name": "stdout",
          "text": [
            "[1] 33\n"
          ]
        }
      ]
    },
    {
      "cell_type": "code",
      "source": [
        "%%R\n",
        "colnames(data)"
      ],
      "metadata": {
        "colab": {
          "base_uri": "https://localhost:8080/",
          "height": 0
        },
        "id": "QcjoCQatBW4X",
        "outputId": "f698b94b-7aae-4d45-cbd7-2411b216e9d4"
      },
      "execution_count": 8,
      "outputs": [
        {
          "output_type": "stream",
          "name": "stdout",
          "text": [
            " [1] \"school\"     \"sex\"        \"age\"        \"address\"    \"famsize\"   \n",
            " [6] \"Pstatus\"    \"Medu\"       \"Fedu\"       \"Mjob\"       \"Fjob\"      \n",
            "[11] \"reason\"     \"guardian\"   \"traveltime\" \"studytime\"  \"failures\"  \n",
            "[16] \"schoolsup\"  \"famsup\"     \"paid\"       \"activities\" \"nursery\"   \n",
            "[21] \"higher\"     \"internet\"   \"romantic\"   \"famrel\"     \"freetime\"  \n",
            "[26] \"goout\"      \"Dalc\"       \"Walc\"       \"health\"     \"absences\"  \n",
            "[31] \"G1\"         \"G2\"         \"G3\"        \n"
          ]
        }
      ]
    },
    {
      "cell_type": "markdown",
      "source": [
        "0. Visializacion previa de datos"
      ],
      "metadata": {
        "id": "XlWRFChSBuvN"
      }
    },
    {
      "cell_type": "code",
      "source": [
        "%%R\n",
        "data %>%\n",
        "select(1:10, freetime) %>%\n",
        "head(n=10)"
      ],
      "metadata": {
        "colab": {
          "base_uri": "https://localhost:8080/",
          "height": 0
        },
        "id": "NARu_Fn4Bzyw",
        "outputId": "c516f632-d1e0-4e26-f112-8b047d806325"
      },
      "execution_count": 9,
      "outputs": [
        {
          "output_type": "stream",
          "name": "stdout",
          "text": [
            "   school sex age address famsize Pstatus Medu Fedu     Mjob     Fjob freetime\n",
            "1      GP   F  18       U     GT3       A    4    4  at_home  teacher        3\n",
            "2      GP   F  17       U     GT3       T    1    1  at_home    other        3\n",
            "3      GP   F  15       U     LE3       T    1    1  at_home    other        3\n",
            "4      GP   F  15       U     GT3       T    4    2   health services        2\n",
            "5      GP   F  16       U     GT3       T    3    3    other    other        3\n",
            "6      GP   M  16       U     LE3       T    4    3 services    other        4\n",
            "7      GP   M  16       U     LE3       T    2    2    other    other        4\n",
            "8      GP   F  17       U     GT3       A    4    4    other  teacher        1\n",
            "9      GP   M  15       U     LE3       A    3    2 services    other        2\n",
            "10     GP   M  15       U     GT3       T    3    4    other    other        5\n"
          ]
        }
      ]
    },
    {
      "cell_type": "markdown",
      "source": [
        "**1. Alumnos que salen de casa regularmente (>=3) y toman regularmente los fines de semana**"
      ],
      "metadata": {
        "id": "tP0cHTVYDW2B"
      }
    },
    {
      "cell_type": "code",
      "source": [
        "%%R\n",
        "data %>%\n",
        "filter(goout >= 3 & Walc >= 3) %>%\n",
        "select(1:9, goout, Walc) %>%\n",
        "head(n=50)"
      ],
      "metadata": {
        "colab": {
          "base_uri": "https://localhost:8080/",
          "height": 0
        },
        "id": "cH-r9oNQDhIc",
        "outputId": "a6347ed4-528a-4a0d-f3f6-9b2ca247657b"
      },
      "execution_count": 20,
      "outputs": [
        {
          "output_type": "stream",
          "name": "stdout",
          "text": [
            "   school sex age address famsize Pstatus Medu Fedu     Mjob goout Walc\n",
            "1      GP   M  15       U     LE3       T    4    4   health     3    3\n",
            "2      GP   M  17       U     GT3       T    3    2 services     5    4\n",
            "3      GP   M  16       U     LE3       T    4    3   health     3    3\n",
            "4      GP   M  16       U     LE3       T    2    2    other     4    4\n",
            "5      GP   M  15       U     GT3       T    4    2   health     4    4\n",
            "6      GP   M  16       U     GT3       T    4    4  teacher     5    5\n",
            "7      GP   M  15       U     LE3       T    4    4  teacher     3    4\n",
            "8      GP   F  16       U     LE3       A    3    3    other     5    4\n",
            "9      GP   F  16       U     LE3       T    2    2 services     3    3\n",
            "10     GP   M  15       U     LE3       A    4    2   health     5    4\n",
            "11     GP   F  15       U     GT3       T    4    4 services     4    3\n",
            "12     GP   F  15       U     LE3       A    3    3    other     4    4\n",
            "13     GP   F  16       R     GT3       T    4    4   health     4    3\n",
            "14     GP   F  16       U     GT3       T    1    1 services     5    5\n",
            "15     GP   F  16       U     GT3       T    4    3  teacher     4    4\n",
            "16     GP   F  15       U     LE3       T    4    3 services     4    4\n",
            "17     GP   M  15       U     GT3       A    4    4    other     3    5\n",
            "18     GP   F  15       R     LE3       T    2    2   health     3    3\n",
            "19     GP   F  15       R     GT3       T    1    1    other     4    4\n",
            "20     GP   F  16       U     GT3       T    3    3    other     3    4\n",
            "21     GP   M  15       U     GT3       T    4    3  teacher     3    3\n",
            "22     GP   F  16       U     GT3       T    2    2    other     3    3\n",
            "23     GP   M  15       U     LE3       T    2    2 services     3    3\n",
            "24     GP   F  15       U     GT3       T    4    4 services     4    3\n",
            "25     GP   F  15       U     GT3       T    4    2    other     3    3\n",
            "26     GP   M  16       U     LE3       A    4    4  teacher     3    5\n",
            "27     GP   F  16       U     GT3       T    3    3    other     3    3\n",
            "28     GP   F  15       U     GT3       T    4    3 services     5    3\n",
            "29     GP   F  16       U     LE3       T    3    1    other     3    3\n",
            "30     GP   M  16       U     GT3       T    4    4 services     5    5\n",
            "31     GP   M  15       R     GT3       T    4    4    other     5    5\n",
            "32     GP   M  17       R     GT3       T    1    3    other     4    4\n",
            "33     GP   M  16       U     GT3       T    4    4   health     4    4\n",
            "34     GP   M  16       R     GT3       T    4    4  teacher     5    5\n",
            "35     GP   F  17       U     LE3       T    2    2    other     4    3\n",
            "36     GP   M  17       R     GT3       T    3    4  at_home     5    4\n",
            "37     GP   M  16       U     LE3       T    1    1 services     4    3\n",
            "38     GP   F  16       U     LE3       T    1    1  at_home     4    3\n",
            "39     GP   M  15       U     LE3       A    2    1 services     5    5\n",
            "40     GP   M  18       U     LE3       T    1    1    other     5    5\n",
            "41     GP   M  16       U     LE3       T    2    1  at_home     4    5\n",
            "42     GP   F  18       R     GT3       T    1    1  at_home     5    5\n",
            "43     GP   M  16       U     GT3       T    3    3    other     5    4\n",
            "44     GP   M  15       R     GT3       T    3    2    other     4    4\n",
            "45     GP   M  16       U     LE3       T    1    2    other     4    4\n",
            "46     GP   M  17       U     GT3       T    1    3  at_home     3    4\n",
            "47     GP   M  17       R     LE3       T    1    1    other     5    5\n",
            "48     GP   M  16       U     GT3       T    2    2    other     5    4\n",
            "49     GP   M  16       U     GT3       T    3    4    other     5    4\n",
            "50     GP   M  17       U     LE3       T    4    4  teacher     4    3\n"
          ]
        }
      ]
    },
    {
      "cell_type": "markdown",
      "source": [
        "**2. Alumnos que salen con amigos regularmente (>=3) y toman regularmente entre semana**"
      ],
      "metadata": {
        "id": "wNiWKloJFnnn"
      }
    },
    {
      "cell_type": "code",
      "source": [
        "%%R\n",
        "data %>%\n",
        "filter(goout >= 3 & Dalc >= 3) %>%\n",
        "select(1:9, goout, Dalc) %>%\n",
        "head(n=100)"
      ],
      "metadata": {
        "colab": {
          "base_uri": "https://localhost:8080/",
          "height": 0
        },
        "id": "IvDJAwD3FxBz",
        "outputId": "4bb542cf-1096-4c44-81e0-65d8215bb40e"
      },
      "execution_count": 11,
      "outputs": [
        {
          "output_type": "stream",
          "name": "stdout",
          "text": [
            "   school sex age address famsize Pstatus Medu Fedu     Mjob goout Dalc\n",
            "1      GP   M  16       U     GT3       T    4    4  teacher     5    5\n",
            "2      GP   M  15       U     LE3       A    4    2   health     5    3\n",
            "3      GP   F  15       U     LE3       A    3    3    other     4    4\n",
            "4      GP   F  16       U     GT3       T    1    1 services     5    5\n",
            "5      GP   M  15       U     GT3       A    4    4    other     3    5\n",
            "6      GP   M  16       U     LE3       A    4    4  teacher     3    3\n",
            "7      GP   M  16       U     GT3       T    4    4 services     5    5\n",
            "8      GP   M  15       R     GT3       T    4    4    other     5    3\n",
            "9      GP   M  15       U     GT3       T    3    4 services     5    3\n",
            "10     GP   F  16       U     LE3       T    1    1  at_home     4    3\n",
            "11     GP   M  16       U     LE3       T    2    1  at_home     4    3\n",
            "12     GP   M  16       U     GT3       T    3    3    other     5    4\n",
            "13     GP   M  17       U     LE3       T    4    3  teacher     4    4\n",
            "14     GP   M  16       R     GT3       T    4    2  teacher     3    3\n",
            "15     GP   M  17       U     GT3       T    1    2  at_home     4    4\n",
            "16     GP   M  16       R     LE3       T    3    3  teacher     4    3\n",
            "17     GP   F  17       U     GT3       T    3    4  at_home     3    3\n",
            "18     GP   M  17       U     LE3       T    4    4 services     5    4\n",
            "19     GP   M  18       U     GT3       T    2    2    other     3    5\n",
            "20     GP   M  18       U     GT3       T    2    2    other     4    3\n",
            "21     GP   M  22       U     GT3       T    3    1 services     5    5\n",
            "22     GP   M  18       R     LE3       A    3    4    other     5    3\n",
            "23     GP   M  17       U     GT3       T    3    1 services     4    3\n",
            "24     GP   F  19       U     GT3       T    3    3    other     5    3\n",
            "25     GP   M  17       U     LE3       A    3    2  teacher     4    3\n",
            "26     GP   F  18       U     GT3       T    4    4  teacher     4    3\n",
            "27     GP   M  17       U     GT3       T    3    3    other     5    3\n",
            "28     GP   M  17       R     GT3       T    2    2 services     5    5\n",
            "29     MS   M  18       R     GT3       T    3    2    other     5    5\n",
            "30     MS   M  19       R     GT3       T    1    1    other     4    3\n",
            "31     MS   M  19       R     GT3       T    1    1    other     4    3\n",
            "32     MS   F  18       R     LE3       T    4    4  teacher     3    3\n",
            "33     MS   M  18       R     GT3       T    4    2    other     3    4\n",
            "34     MS   M  20       U     LE3       A    2    2 services     4    4\n",
            "35     MS   M  17       U     LE3       T    3    1 services     5    3\n",
            "36     MS   M  21       R     GT3       T    1    1    other     3    3\n",
            "37     MS   M  19       U     LE3       T    1    1    other     3    3\n"
          ]
        }
      ]
    },
    {
      "cell_type": "markdown",
      "source": [
        "**3. Alumnos que salen con amigos y toman regularmente cualquier dia**"
      ],
      "metadata": {
        "id": "QgiFCoGAFzYD"
      }
    },
    {
      "cell_type": "code",
      "source": [
        "%%R\n",
        "data %>%\n",
        "filter(goout >= 3 & Dalc >= 3 | Walc >=3) %>%\n",
        "select(1:9, goout, Dalc, Walc) %>%\n",
        "head(n=50)"
      ],
      "metadata": {
        "colab": {
          "base_uri": "https://localhost:8080/",
          "height": 0
        },
        "id": "mhjxhZJ7HJfc",
        "outputId": "9034a660-4705-4d78-91bf-6d1aec9f93fd"
      },
      "execution_count": 12,
      "outputs": [
        {
          "output_type": "stream",
          "name": "stdout",
          "text": [
            "   school sex age address famsize Pstatus Medu Fedu     Mjob goout Dalc Walc\n",
            "1      GP   F  15       U     LE3       T    1    1  at_home     2    2    3\n",
            "2      GP   M  15       U     LE3       T    4    4   health     3    1    3\n",
            "3      GP   M  17       U     GT3       T    3    2 services     5    2    4\n",
            "4      GP   M  16       U     LE3       T    4    3   health     3    1    3\n",
            "5      GP   M  16       U     LE3       T    4    2  teacher     1    1    3\n",
            "6      GP   M  16       U     LE3       T    2    2    other     4    2    4\n",
            "7      GP   F  16       U     GT3       T    2    2 services     2    1    3\n",
            "8      GP   M  15       U     GT3       T    4    2   health     4    2    4\n",
            "9      GP   M  16       U     GT3       T    4    4  teacher     5    5    5\n",
            "10     GP   M  15       U     GT3       T    4    4   health     2    3    4\n",
            "11     GP   M  15       U     LE3       T    4    4  teacher     3    2    4\n",
            "12     GP   F  16       U     LE3       A    3    3    other     5    1    4\n",
            "13     GP   F  16       U     LE3       T    2    2 services     3    2    3\n",
            "14     GP   M  15       U     LE3       A    4    2   health     5    3    4\n",
            "15     GP   F  15       U     GT3       T    4    4 services     4    2    3\n",
            "16     GP   F  15       U     LE3       A    3    3    other     4    4    4\n",
            "17     GP   F  16       R     GT3       T    4    4   health     4    2    3\n",
            "18     GP   F  16       U     GT3       T    1    1 services     5    5    5\n",
            "19     GP   F  16       U     GT3       T    4    3  teacher     4    2    4\n",
            "20     GP   F  15       U     LE3       T    4    3 services     4    2    4\n",
            "21     GP   M  15       U     GT3       A    4    4    other     3    5    5\n",
            "22     GP   F  15       R     LE3       T    2    2   health     3    1    3\n",
            "23     GP   F  15       R     LE3       T    3    1    other     2    2    3\n",
            "24     GP   F  15       R     GT3       T    1    1    other     4    2    4\n",
            "25     GP   F  16       U     GT3       T    3    3    other     3    2    4\n",
            "26     GP   M  15       U     GT3       T    4    3  teacher     3    2    3\n",
            "27     GP   F  16       U     GT3       T    2    2    other     3    1    3\n",
            "28     GP   M  15       U     GT3       T    2    3    other     2    1    3\n",
            "29     GP   M  15       U     LE3       T    2    2 services     3    1    3\n",
            "30     GP   F  15       U     GT3       T    1    1    other     2    2    3\n",
            "31     GP   F  15       U     GT3       T    4    4 services     4    2    3\n",
            "32     GP   F  15       U     GT3       T    4    2    other     3    1    3\n",
            "33     GP   M  16       U     LE3       A    4    4  teacher     3    3    5\n",
            "34     GP   F  16       U     GT3       T    3    3    other     3    1    3\n",
            "35     GP   F  15       U     GT3       T    4    3 services     5    1    3\n",
            "36     GP   F  16       U     LE3       T    3    1    other     3    2    3\n",
            "37     GP   M  16       U     GT3       T    4    4 services     5    5    5\n",
            "38     GP   M  15       R     GT3       T    4    4    other     5    3    5\n",
            "39     GP   M  17       R     GT3       T    1    3    other     4    1    4\n",
            "40     GP   M  16       U     GT3       T    4    4   health     4    1    4\n",
            "41     GP   M  15       U     GT3       T    3    4 services     5    3    2\n",
            "42     GP   M  16       R     GT3       T    4    4  teacher     5    2    5\n",
            "43     GP   F  17       U     LE3       T    2    2    other     4    1    3\n",
            "44     GP   F  16       U     GT3       A    3    4 services     1    1    4\n",
            "45     GP   M  17       R     GT3       T    3    4  at_home     5    2    4\n",
            "46     GP   M  16       U     LE3       T    1    1 services     4    1    3\n",
            "47     GP   F  16       U     LE3       T    1    1  at_home     4    3    3\n",
            "48     GP   M  15       U     LE3       A    2    1 services     5    2    5\n",
            "49     GP   M  18       U     LE3       T    1    1    other     5    2    5\n",
            "50     GP   M  16       U     LE3       T    2    1  at_home     4    3    5\n"
          ]
        }
      ]
    },
    {
      "cell_type": "markdown",
      "source": [
        "**4. ¿Los alumnos del ejercicio 1 son los mismos que los del ejercicio 2? ¿Por qué?**"
      ],
      "metadata": {
        "id": "MIPzMpcDF51p"
      }
    },
    {
      "cell_type": "markdown",
      "source": [
        "### Se logran ver datos diferentes para ambos ejercicios y es por que para ambas columnas es decir que si salen a tomar en fin de semana o entre semana son columnas diferentes sin embargo, pueden existir personas que lleguen a tomar tanto en fin de semana como entre semana y eso se plasmaria en el ejercicio 3"
      ],
      "metadata": {
        "id": "wBjQNQirKYEG"
      }
    },
    {
      "cell_type": "code",
      "source": [
        "%%R\n",
        "data %>%\n",
        "select(goout, Dalc, Walc) %>%\n",
        "head(n=50)"
      ],
      "metadata": {
        "colab": {
          "base_uri": "https://localhost:8080/"
        },
        "id": "G0y67mWfBLub",
        "outputId": "f890b2ea-bc9a-4ea2-ec45-5a20c340214a"
      },
      "execution_count": 22,
      "outputs": [
        {
          "output_type": "stream",
          "name": "stdout",
          "text": [
            "   goout Dalc Walc\n",
            "1      4    1    1\n",
            "2      3    1    1\n",
            "3      2    2    3\n",
            "4      2    1    1\n",
            "5      2    1    2\n",
            "6      2    1    2\n",
            "7      4    1    1\n",
            "8      4    1    1\n",
            "9      2    1    1\n",
            "10     1    1    1\n",
            "11     3    1    2\n",
            "12     2    1    1\n",
            "13     3    1    3\n",
            "14     3    1    2\n",
            "15     2    1    1\n",
            "16     4    1    2\n",
            "17     3    1    2\n",
            "18     2    1    1\n",
            "19     5    2    4\n",
            "20     3    1    3\n",
            "21     1    1    1\n",
            "22     2    1    1\n",
            "23     1    1    3\n",
            "24     4    2    4\n",
            "25     2    1    1\n",
            "26     2    1    3\n",
            "27     2    1    2\n",
            "28     4    2    4\n",
            "29     3    1    1\n",
            "30     5    5    5\n",
            "31     2    3    4\n",
            "32     1    1    1\n",
            "33     2    1    1\n",
            "34     2    1    1\n",
            "35     3    1    1\n",
            "36     1    1    1\n",
            "37     3    1    1\n",
            "38     3    1    1\n",
            "39     2    1    1\n",
            "40     1    1    1\n",
            "41     3    1    2\n",
            "42     3    2    4\n",
            "43     3    1    1\n",
            "44     1    1    1\n",
            "45     3    2    2\n",
            "46     2    1    1\n",
            "47     5    1    4\n",
            "48     2    1    1\n",
            "49     3    2    2\n",
            "50     4    1    1\n"
          ]
        }
      ]
    },
    {
      "cell_type": "markdown",
      "source": [
        "**5. Alumnos que no quieren continuar sus estudios pero sus padres si cuentan con un alto grado de estudio (>=3)**"
      ],
      "metadata": {
        "id": "QXbaMQq7GEKN"
      }
    },
    {
      "cell_type": "code",
      "source": [
        "%%R\n",
        "data %>%\n",
        "filter(higher == \"no\" & (Medu>=3 | Fedu>=3)) %>%\n",
        "select(1:9, higher)"
      ],
      "metadata": {
        "colab": {
          "base_uri": "https://localhost:8080/",
          "height": 0
        },
        "id": "0dMCQ56WGQbF",
        "outputId": "d47980cd-1e31-4f66-c662-f533bb0c8724"
      },
      "execution_count": 13,
      "outputs": [
        {
          "output_type": "stream",
          "name": "stdout",
          "text": [
            "  school sex age address famsize Pstatus Medu Fedu     Mjob higher\n",
            "1     GP   M  16       U     GT3       T    4    4  teacher     no\n",
            "2     GP   M  19       U     GT3       T    3    2 services     no\n",
            "3     GP   M  17       U     GT3       T    1    3  at_home     no\n",
            "4     GP   M  16       U     GT3       T    3    2 services     no\n",
            "5     GP   M  22       U     GT3       T    3    1 services     no\n",
            "6     GP   M  18       U     GT3       T    3    2 services     no\n",
            "7     GP   F  18       R     GT3       A    3    2    other     no\n",
            "8     MS   M  18       U     LE3       T    1    3  at_home     no\n"
          ]
        }
      ]
    },
    {
      "cell_type": "markdown",
      "source": [
        "**6. Alumnos que quieren continuar con sus estudios pero sus padres no cuentan con un alto grado de estudios (<=3)**"
      ],
      "metadata": {
        "id": "b2yIPqK_GQj-"
      }
    },
    {
      "cell_type": "code",
      "source": [
        "%%R\n",
        "data %>%\n",
        "filter(higher == \"yes\" & (Medu<=3 & Fedu<=3)) %>%\n",
        "select(1:9, higher) %>%\n",
        "head(n=50)"
      ],
      "metadata": {
        "colab": {
          "base_uri": "https://localhost:8080/",
          "height": 0
        },
        "id": "dL1SXCu1GdHc",
        "outputId": "7a535a11-beff-4b8e-ab76-b23de4841dc9"
      },
      "execution_count": 14,
      "outputs": [
        {
          "output_type": "stream",
          "name": "stdout",
          "text": [
            "   school sex age address famsize Pstatus Medu Fedu     Mjob higher\n",
            "1      GP   F  17       U     GT3       T    1    1  at_home    yes\n",
            "2      GP   F  15       U     LE3       T    1    1  at_home    yes\n",
            "3      GP   F  16       U     GT3       T    3    3    other    yes\n",
            "4      GP   M  16       U     LE3       T    2    2    other    yes\n",
            "5      GP   M  15       U     LE3       A    3    2 services    yes\n",
            "6      GP   F  15       U     GT3       T    2    1 services    yes\n",
            "7      GP   M  15       U     GT3       A    2    2    other    yes\n",
            "8      GP   F  16       U     GT3       T    3    3    other    yes\n",
            "9      GP   M  17       U     GT3       T    3    2 services    yes\n",
            "10     GP   M  16       U     LE3       T    2    2    other    yes\n",
            "11     GP   F  16       U     GT3       T    2    2 services    yes\n",
            "12     GP   M  15       U     GT3       T    2    2    other    yes\n",
            "13     GP   M  15       U     LE3       T    3    3    other    yes\n",
            "14     GP   M  16       U     GT3       T    3    2    other    yes\n",
            "15     GP   F  15       U     GT3       T    2    3    other    yes\n",
            "16     GP   F  15       R     GT3       T    2    2  at_home    yes\n",
            "17     GP   F  16       U     LE3       T    2    2    other    yes\n",
            "18     GP   M  15       U     GT3       T    2    2 services    yes\n",
            "19     GP   F  16       U     LE3       T    2    2    other    yes\n",
            "20     GP   F  16       U     LE3       A    3    3    other    yes\n",
            "21     GP   F  16       U     LE3       T    2    2 services    yes\n",
            "22     GP   F  15       U     LE3       A    3    3    other    yes\n",
            "23     GP   F  16       U     GT3       A    2    1    other    yes\n",
            "24     GP   M  15       U     LE3       T    1    2    other    yes\n",
            "25     GP   F  16       U     GT3       T    1    1 services    yes\n",
            "26     GP   F  16       U     LE3       T    1    2    other    yes\n",
            "27     GP   F  16       U     GT3       T    3    1 services    yes\n",
            "28     GP   F  15       R     LE3       T    2    2   health    yes\n",
            "29     GP   F  15       R     LE3       T    3    1    other    yes\n",
            "30     GP   M  16       U     GT3       T    3    1    other    yes\n",
            "31     GP   F  15       R     GT3       T    1    1    other    yes\n",
            "32     GP   M  16       U     GT3       T    3    1    other    yes\n",
            "33     GP   F  16       U     GT3       T    3    3    other    yes\n",
            "34     GP   F  16       U     GT3       T    2    2    other    yes\n",
            "35     GP   M  15       U     GT3       T    2    3    other    yes\n",
            "36     GP   M  15       U     GT3       T    2    3    other    yes\n",
            "37     GP   F  15       U     LE3       T    3    2 services    yes\n",
            "38     GP   M  15       U     LE3       T    2    2 services    yes\n",
            "39     GP   F  15       U     GT3       T    1    1    other    yes\n",
            "40     GP   F  16       U     LE3       T    2    2  at_home    yes\n",
            "41     GP   M  16       U     GT3       T    2    2 services    yes\n",
            "42     GP   F  16       U     GT3       T    3    3    other    yes\n",
            "43     GP   F  16       U     LE3       T    3    1    other    yes\n",
            "44     GP   M  15       U     LE3       T    2    2 services    yes\n",
            "45     GP   F  15       R     GT3       T    1    1  at_home    yes\n",
            "46     GP   F  16       U     GT3       T    2    1    other    yes\n",
            "47     GP   F  15       U     GT3       T    3    2 services    yes\n",
            "48     GP   F  15       U     GT3       A    3    3    other    yes\n",
            "49     GP   F  15       U     GT3       T    2    2    other    yes\n",
            "50     GP   M  16       U     GT3       T    3    3 services    yes\n"
          ]
        }
      ]
    },
    {
      "cell_type": "markdown",
      "source": [
        "**7. Alumnos provenientes de una zona rural que no cuentan con intenet en casa**"
      ],
      "metadata": {
        "id": "dNyKZbIZGdTu"
      }
    },
    {
      "cell_type": "code",
      "source": [
        "%%R\n",
        "data %>%\n",
        "filter(address == \"R\" & internet == \"no\") %>%\n",
        "select(1:9, internet) %>%\n",
        "head(n=50)"
      ],
      "metadata": {
        "colab": {
          "base_uri": "https://localhost:8080/",
          "height": 0
        },
        "id": "HPCCBzM2GkYN",
        "outputId": "9809d20b-b461-44ea-ae24-c90264ee5cdb"
      },
      "execution_count": 15,
      "outputs": [
        {
          "output_type": "stream",
          "name": "stdout",
          "text": [
            "   school sex age address famsize Pstatus Medu Fedu     Mjob internet\n",
            "1      GP   F  15       R     GT3       T    2    2  at_home       no\n",
            "2      GP   F  16       R     GT3       T    4    4   health       no\n",
            "3      GP   M  15       R     GT3       T    3    4  at_home       no\n",
            "4      GP   M  17       R     GT3       T    3    4  at_home       no\n",
            "5      GP   M  15       R     GT3       T    2    3  at_home       no\n",
            "6      GP   M  17       R     LE3       T    1    2    other       no\n",
            "7      GP   F  18       R     GT3       T    1    1  at_home       no\n",
            "8      GP   M  16       R     GT3       T    2    2  at_home       no\n",
            "9      GP   M  17       R     LE3       T    1    1    other       no\n",
            "10     GP   M  17       R     GT3       T    1    2  at_home       no\n",
            "11     GP   F  17       R     LE3       T    4    4 services       no\n",
            "12     GP   F  17       R     GT3       T    2    1  at_home       no\n",
            "13     GP   M  16       R     GT3       T    2    1    other       no\n",
            "14     GP   M  18       R     GT3       T    3    2    other       no\n",
            "15     GP   M  17       R     GT3       T    1    2  at_home       no\n",
            "16     GP   F  18       R     LE3       T    1    1  at_home       no\n",
            "17     GP   F  17       R     LE3       T    3    1 services       no\n",
            "18     GP   M  19       R     GT3       T    3    3    other       no\n",
            "19     GP   F  18       R     GT3       T    2    2  at_home       no\n",
            "20     GP   F  19       R     GT3       A    3    1 services       no\n",
            "21     MS   F  18       R     LE3       A    1    4  at_home       no\n",
            "22     MS   M  18       R     LE3       T    1    1  at_home       no\n",
            "23     MS   F  17       R     GT3       T    1    2    other       no\n",
            "24     MS   M  18       R     GT3       T    1    3  at_home       no\n",
            "25     MS   M  19       R     GT3       T    1    1    other       no\n",
            "26     MS   M  18       R     GT3       T    4    2    other       no\n",
            "27     MS   F  18       R     GT3       T    2    2  at_home       no\n",
            "28     MS   M  21       R     GT3       T    1    1    other       no\n"
          ]
        }
      ]
    },
    {
      "cell_type": "markdown",
      "source": [
        "**8. Promedio de calificaciones G1, G2, G3 (mostrar primeros 50 estudiantes)**"
      ],
      "metadata": {
        "id": "l_B8SwqJGkiY"
      }
    },
    {
      "cell_type": "code",
      "source": [
        "%%R\n",
        "data %>%\n",
        "select(1:9, G1, G2, G3) %>%\n",
        "mutate(Prom = (G1+G2+G3)/3) %>%\n",
        "arrange(desc(Prom)) %>%\n",
        "head(n=50)"
      ],
      "metadata": {
        "colab": {
          "base_uri": "https://localhost:8080/",
          "height": 0
        },
        "id": "dmbdOjURGtIn",
        "outputId": "8a971d38-7dcc-46eb-8da1-da3f25ea1116"
      },
      "execution_count": 16,
      "outputs": [
        {
          "output_type": "stream",
          "name": "stdout",
          "text": [
            "   school sex age address famsize Pstatus Medu Fedu     Mjob G1 G2 G3     Prom\n",
            "1      GP   M  16       U     GT3       T    4    3   health 19 19 20 19.33333\n",
            "2      GP   M  15       U     LE3       A    4    4  teacher 18 19 19 18.66667\n",
            "3      GP   M  15       U     LE3       T    4    2  teacher 18 19 19 18.66667\n",
            "4      MS   F  18       R     LE3       T    4    4    other 19 18 19 18.66667\n",
            "5      GP   M  15       U     GT3       T    4    4 services 19 18 18 18.33333\n",
            "6      GP   F  18       U     GT3       T    2    2  at_home 18 18 19 18.33333\n",
            "7      GP   M  16       R     GT3       T    4    4  teacher 18 18 18 18.00000\n",
            "8      GP   F  17       U     GT3       T    4    4 services 18 18 18 18.00000\n",
            "9      GP   M  16       U     GT3       T    2    1    other 18 18 18 18.00000\n",
            "10     GP   F  17       R     LE3       T    3    1 services 18 18 18 18.00000\n",
            "11     GP   M  15       U     LE3       A    3    2 services 16 18 19 17.66667\n",
            "12     GP   F  18       U     GT3       T    4    3 services 17 18 18 17.66667\n",
            "13     GP   M  20       U     GT3       A    3    2 services 17 18 18 17.66667\n",
            "14     GP   M  15       U     GT3       A    3    4 services 16 18 18 17.33333\n",
            "15     GP   M  16       U     GT3       T    3    3 services 16 18 18 17.33333\n",
            "16     GP   F  17       U     GT3       T    3    2   health 17 17 18 17.33333\n",
            "17     GP   F  15       U     GT3       T    4    3 services 16 17 18 17.00000\n",
            "18     GP   M  18       R     LE3       A    3    4    other 17 17 17 17.00000\n",
            "19     GP   M  15       U     GT3       T    4    4 services 17 16 17 16.66667\n",
            "20     GP   M  16       U     GT3       T    4    4 services 16 17 17 16.66667\n",
            "21     GP   F  17       U     GT3       T    2    4 services 16 17 17 16.66667\n",
            "22     MS   F  18       U     LE3       T    1    1  at_home 18 16 16 16.66667\n",
            "23     GP   M  15       R     GT3       T    4    3  teacher 17 16 16 16.33333\n",
            "24     GP   M  15       U     LE3       T    4    3  teacher 15 16 18 16.33333\n",
            "25     GP   F  16       U     GT3       T    2    3 services 16 16 17 16.33333\n",
            "26     GP   F  15       R     LE3       T    3    1    other 16 16 16 16.00000\n",
            "27     GP   M  17       U     GT3       T    4    4 services 17 15 16 16.00000\n",
            "28     GP   F  16       U     GT3       T    4    3   health 16 16 16 16.00000\n",
            "29     GP   F  18       U     LE3       T    3    3 services 16 15 17 16.00000\n",
            "30     GP   F  16       U     GT3       T    4    2 services 15 16 16 15.66667\n",
            "31     GP   F  15       U     GT3       T    4    4  teacher 16 16 15 15.66667\n",
            "32     GP   M  16       R     GT3       T    2    2  at_home 17 15 15 15.66667\n",
            "33     GP   M  18       U     LE3       T    4    4  teacher 16 15 16 15.66667\n",
            "34     GP   M  18       R     GT3       T    4    3  teacher 16 15 16 15.66667\n",
            "35     GP   M  15       U     GT3       A    2    2    other 14 16 16 15.33333\n",
            "36     GP   M  16       U     LE3       T    4    2  teacher 15 15 16 15.33333\n",
            "37     GP   M  15       U     GT3       T    4    2   health 15 16 15 15.33333\n",
            "38     GP   M  16       R     GT3       A    4    4    other 15 16 15 15.33333\n",
            "39     GP   F  16       U     LE3       T    4    3  teacher 16 15 15 15.33333\n",
            "40     GP   M  16       U     GT3       T    4    4  teacher 15 15 16 15.33333\n",
            "41     GP   F  15       U     GT3       T    1    2  at_home 16 15 15 15.33333\n",
            "42     GP   F  17       U     GT3       T    3    2    other 16 15 15 15.33333\n",
            "43     GP   F  17       U     LE3       T    0    2  at_home 16 15 15 15.33333\n",
            "44     GP   F  17       U     GT3       T    3    4 services 16 15 15 15.33333\n",
            "45     GP   M  18       U     LE3       T    3    4 services 16 15 15 15.33333\n",
            "46     MS   F  17       U     LE3       T    4    4  at_home 16 15 15 15.33333\n",
            "47     MS   M  17       U     LE3       T    3    1 services 14 16 16 15.33333\n",
            "48     GP   M  16       U     LE3       T    4    3 services 15 15 15 15.00000\n",
            "49     GP   M  15       U     LE3       T    2    2 services 15 15 15 15.00000\n",
            "50     GP   F  16       U     LE3       T    4    4   health 14 15 16 15.00000\n"
          ]
        }
      ]
    },
    {
      "cell_type": "markdown",
      "source": [
        "**9. Número de alumnos menores de edad y número de alumno mayores de edad**"
      ],
      "metadata": {
        "id": "dWOkY5OeGtQE"
      }
    },
    {
      "cell_type": "code",
      "source": [
        "%%R\n",
        "data %>%\n",
        "group_by(age) %>%\n",
        "count(age) %>%\n",
        "filter(age >= 18)"
      ],
      "metadata": {
        "colab": {
          "base_uri": "https://localhost:8080/",
          "height": 0
        },
        "id": "8Y1PJ_wwGzxK",
        "outputId": "0ca1a7da-740e-4ccc-fcf5-e644076ca2d0"
      },
      "execution_count": 17,
      "outputs": [
        {
          "output_type": "stream",
          "name": "stdout",
          "text": [
            "# A tibble: 5 × 2\n",
            "# Groups:   age [5]\n",
            "    age     n\n",
            "  <int> <int>\n",
            "1    18    82\n",
            "2    19    24\n",
            "3    20     3\n",
            "4    21     1\n",
            "5    22     1\n"
          ]
        }
      ]
    },
    {
      "cell_type": "code",
      "source": [
        "%%R\n",
        "data %>%\n",
        "group_by(age) %>%\n",
        "count(age) %>%\n",
        "filter(age < 18)"
      ],
      "metadata": {
        "colab": {
          "base_uri": "https://localhost:8080/",
          "height": 0
        },
        "id": "-u5eM693Qlf2",
        "outputId": "823eb56c-50b2-41f3-eda0-45c69d7977e9"
      },
      "execution_count": 18,
      "outputs": [
        {
          "output_type": "stream",
          "name": "stdout",
          "text": [
            "# A tibble: 3 × 2\n",
            "# Groups:   age [3]\n",
            "    age     n\n",
            "  <int> <int>\n",
            "1    15    82\n",
            "2    16   104\n",
            "3    17    98\n"
          ]
        }
      ]
    },
    {
      "cell_type": "markdown",
      "source": [
        "**10. ¿Que grupo representa un mayor número de relaciones románticas los hombres o las mujeres?**"
      ],
      "metadata": {
        "id": "YgEcGWr0Gz5s"
      }
    },
    {
      "cell_type": "code",
      "source": [
        "%%R\n",
        "data %>%\n",
        "group_by(sex) %>%\n",
        "count(romantic) %>%\n",
        "filter(romantic == \"yes\")"
      ],
      "metadata": {
        "colab": {
          "base_uri": "https://localhost:8080/",
          "height": 0
        },
        "id": "Ge9e2Z7eG61H",
        "outputId": "bcdcbd90-aa74-4545-9963-144e93ebfc82"
      },
      "execution_count": 19,
      "outputs": [
        {
          "output_type": "stream",
          "name": "stdout",
          "text": [
            "# A tibble: 2 × 3\n",
            "# Groups:   sex [2]\n",
            "  sex   romantic     n\n",
            "  <chr> <chr>    <int>\n",
            "1 F     yes         79\n",
            "2 M     yes         53\n"
          ]
        }
      ]
    }
  ]
}