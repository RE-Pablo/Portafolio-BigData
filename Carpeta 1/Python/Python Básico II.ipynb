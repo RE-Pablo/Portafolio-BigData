{
 "cells": [
  {
   "cell_type": "markdown",
   "id": "9585339c",
   "metadata": {},
   "source": [
    "## Python Basico 2\n",
    "\n",
    "## Pablo Elias Ramirez Escalante\n",
    "\n",
    "## 2883894\n",
    "\n",
    "### Uso de strings"
   ]
  },
  {
   "cell_type": "code",
   "execution_count": 4,
   "id": "8e2277c4",
   "metadata": {},
   "outputs": [],
   "source": [
    "nombre = \"Pablo Elias Ramirez Escalante\""
   ]
  },
  {
   "cell_type": "markdown",
   "id": "156dc3a1",
   "metadata": {},
   "source": [
    "Funcion **len** sirve para obtener la longitud de una cadena de caracteres"
   ]
  },
  {
   "cell_type": "code",
   "execution_count": 5,
   "id": "03d62883",
   "metadata": {},
   "outputs": [
    {
     "data": {
      "text/plain": [
       "29"
      ]
     },
     "execution_count": 5,
     "metadata": {},
     "output_type": "execute_result"
    }
   ],
   "source": [
    "len(nombre)"
   ]
  },
  {
   "cell_type": "markdown",
   "id": "86555c1c",
   "metadata": {},
   "source": [
    "Función **join** sirve para adjuntar/concatenar listas de caracteres"
   ]
  },
  {
   "cell_type": "code",
   "execution_count": 6,
   "id": "a50d2bd3",
   "metadata": {},
   "outputs": [
    {
     "name": "stdout",
     "output_type": "stream",
     "text": [
      "Pablo  Elias Ramirez Escalante\n",
      "Pablo  - Elias - Ramirez - Escalante\n",
      "PabloEliasRamirezEscalante\n"
     ]
    }
   ],
   "source": [
    "print(\" \".join([\"Pablo \",\"Elias\", \"Ramirez\", \"Escalante\"]))\n",
    "print(\" - \".join([\"Pablo \",\"Elias\", \"Ramirez\", \"Escalante\"]))\n",
    "print(\"\".join([\"Pablo\",\"Elias\", \"Ramirez\", \"Escalante\"]))"
   ]
  },
  {
   "cell_type": "markdown",
   "id": "865d88f4",
   "metadata": {},
   "source": [
    "Funcion **split** sirve para separar cadenas de caracteres a paritr de un caracter particular"
   ]
  },
  {
   "cell_type": "code",
   "execution_count": 7,
   "id": "532e03f5",
   "metadata": {},
   "outputs": [
    {
     "data": {
      "text/plain": [
       "['Pablo', 'Elias', 'Ramirez', 'Escalante']"
      ]
     },
     "execution_count": 7,
     "metadata": {},
     "output_type": "execute_result"
    }
   ],
   "source": [
    "nombre.split(\" \")"
   ]
  },
  {
   "cell_type": "code",
   "execution_count": 8,
   "id": "9f40e148",
   "metadata": {},
   "outputs": [
    {
     "data": {
      "text/plain": [
       "['Pablo', 'Elias', 'Ramirez', 'Escalante']"
      ]
     },
     "execution_count": 8,
     "metadata": {},
     "output_type": "execute_result"
    }
   ],
   "source": [
    "nombre.split()"
   ]
  },
  {
   "cell_type": "code",
   "execution_count": 9,
   "id": "53b1b66a",
   "metadata": {},
   "outputs": [
    {
     "data": {
      "text/plain": [
       "['P', 'blo Eli', 's R', 'mirez Esc', 'l', 'nte']"
      ]
     },
     "execution_count": 9,
     "metadata": {},
     "output_type": "execute_result"
    }
   ],
   "source": [
    "nombre.split(\"a\")"
   ]
  },
  {
   "cell_type": "markdown",
   "id": "7df85d4a",
   "metadata": {},
   "source": [
    "Funcion **replace** sirve para sustituir caracteres por otros"
   ]
  },
  {
   "cell_type": "code",
   "execution_count": 10,
   "id": "eae27660",
   "metadata": {},
   "outputs": [
    {
     "data": {
      "text/plain": [
       "'Pablo Juan Ramirez Escalante'"
      ]
     },
     "execution_count": 10,
     "metadata": {},
     "output_type": "execute_result"
    }
   ],
   "source": [
    "nombre.replace(\"Elias\",\"Juan\")"
   ]
  },
  {
   "cell_type": "code",
   "execution_count": 11,
   "id": "90625c43",
   "metadata": {},
   "outputs": [
    {
     "data": {
      "text/plain": [
       "'Pablo Elias Ramirez Escalante'"
      ]
     },
     "execution_count": 11,
     "metadata": {},
     "output_type": "execute_result"
    }
   ],
   "source": [
    "nombre"
   ]
  },
  {
   "cell_type": "markdown",
   "id": "dcd29372",
   "metadata": {},
   "source": [
    "Funcion **find** sirve para buscar una cadena de caracteres dentro de otra"
   ]
  },
  {
   "cell_type": "code",
   "execution_count": 12,
   "id": "65df595e",
   "metadata": {},
   "outputs": [
    {
     "data": {
      "text/plain": [
       "20"
      ]
     },
     "execution_count": 12,
     "metadata": {},
     "output_type": "execute_result"
    }
   ],
   "source": [
    "nombre.find(\"Escalante\")"
   ]
  },
  {
   "cell_type": "code",
   "execution_count": 13,
   "id": "6ba5207f",
   "metadata": {},
   "outputs": [
    {
     "data": {
      "text/plain": [
       "-1"
      ]
     },
     "execution_count": 13,
     "metadata": {},
     "output_type": "execute_result"
    }
   ],
   "source": [
    "nombre.find(\"Juan\")"
   ]
  },
  {
   "cell_type": "markdown",
   "id": "9e9090f7",
   "metadata": {},
   "source": [
    "Funcion **rfind** sirve para buscar la primer coincidencia de una cadena de caracteres dentro de otra buscandola desde el final"
   ]
  },
  {
   "cell_type": "code",
   "execution_count": 14,
   "id": "fcb40b12",
   "metadata": {},
   "outputs": [
    {
     "data": {
      "text/plain": [
       "20"
      ]
     },
     "execution_count": 14,
     "metadata": {},
     "output_type": "execute_result"
    }
   ],
   "source": [
    "nombre.rfind(\"E\")"
   ]
  },
  {
   "cell_type": "markdown",
   "id": "4c04ba80",
   "metadata": {},
   "source": [
    "Concatenación"
   ]
  },
  {
   "cell_type": "code",
   "execution_count": 15,
   "id": "1ef03fac",
   "metadata": {},
   "outputs": [
    {
     "data": {
      "text/plain": [
       "'PabloElias'"
      ]
     },
     "execution_count": 15,
     "metadata": {},
     "output_type": "execute_result"
    }
   ],
   "source": [
    "\"Pablo\" + \"Elias\""
   ]
  },
  {
   "cell_type": "markdown",
   "id": "720a053b",
   "metadata": {},
   "source": [
    "Uso de listas"
   ]
  },
  {
   "cell_type": "code",
   "execution_count": 16,
   "id": "c23fcf36",
   "metadata": {},
   "outputs": [],
   "source": [
    "milista1 = [1,2,34,5,6]\n",
    "milista2 = [\"Sergio\", \"Damian\"]\n",
    "milista3 = [ [1,2,3,4],[\"a\",\"b\",\"c\",\"d\"]]"
   ]
  },
  {
   "cell_type": "code",
   "execution_count": 17,
   "id": "6e16a427",
   "metadata": {},
   "outputs": [],
   "source": [
    "milista4 = [True, \"asda\", 1, 123.2131, []]"
   ]
  },
  {
   "cell_type": "code",
   "execution_count": 22,
   "id": "08bcd07a",
   "metadata": {},
   "outputs": [
    {
     "data": {
      "text/plain": [
       "5"
      ]
     },
     "execution_count": 22,
     "metadata": {},
     "output_type": "execute_result"
    }
   ],
   "source": [
    "len(milista1)"
   ]
  },
  {
   "cell_type": "code",
   "execution_count": 23,
   "id": "6e0a80f1",
   "metadata": {},
   "outputs": [
    {
     "data": {
      "text/plain": [
       "1"
      ]
     },
     "execution_count": 23,
     "metadata": {},
     "output_type": "execute_result"
    }
   ],
   "source": [
    "milista1[0]"
   ]
  },
  {
   "cell_type": "code",
   "execution_count": 24,
   "id": "df69e6d5",
   "metadata": {},
   "outputs": [
    {
     "data": {
      "text/plain": [
       "'Sergio'"
      ]
     },
     "execution_count": 24,
     "metadata": {},
     "output_type": "execute_result"
    }
   ],
   "source": [
    "milista2[0]"
   ]
  },
  {
   "cell_type": "code",
   "execution_count": 25,
   "id": "cad47c9e",
   "metadata": {},
   "outputs": [
    {
     "data": {
      "text/plain": [
       "['a', 'b', 'c', 'd']"
      ]
     },
     "execution_count": 25,
     "metadata": {},
     "output_type": "execute_result"
    }
   ],
   "source": [
    "milista3[-1]"
   ]
  },
  {
   "cell_type": "code",
   "execution_count": 26,
   "id": "3ade4c0b",
   "metadata": {},
   "outputs": [
    {
     "data": {
      "text/plain": [
       "[1, 2, 34, 5, 6, 'Sergio', 'Damian']"
      ]
     },
     "execution_count": 26,
     "metadata": {},
     "output_type": "execute_result"
    }
   ],
   "source": [
    "milista1 + milista2"
   ]
  },
  {
   "cell_type": "markdown",
   "id": "7cbb7324",
   "metadata": {},
   "source": [
    "La funcion **apend** sirve para añadir un nuevo elemento al final de la lista"
   ]
  },
  {
   "cell_type": "code",
   "execution_count": 27,
   "id": "d0067c93",
   "metadata": {},
   "outputs": [],
   "source": [
    "milista1.append(7)"
   ]
  },
  {
   "cell_type": "code",
   "execution_count": 28,
   "id": "67385d98",
   "metadata": {},
   "outputs": [
    {
     "data": {
      "text/plain": [
       "[1, 2, 34, 5, 6, 7]"
      ]
     },
     "execution_count": 28,
     "metadata": {},
     "output_type": "execute_result"
    }
   ],
   "source": [
    "milista1"
   ]
  },
  {
   "cell_type": "code",
   "execution_count": 29,
   "id": "40a423d1",
   "metadata": {},
   "outputs": [
    {
     "data": {
      "text/plain": [
       "[1, 2, 34, 5, 7]"
      ]
     },
     "execution_count": 29,
     "metadata": {},
     "output_type": "execute_result"
    }
   ],
   "source": [
    "milista1.remove(6)\n",
    "milista1"
   ]
  },
  {
   "cell_type": "markdown",
   "id": "9dad9248",
   "metadata": {},
   "source": [
    "La funcion **index** sirve para encontrar un elemento dentro de una lista"
   ]
  },
  {
   "cell_type": "code",
   "execution_count": 30,
   "id": "ad2af909",
   "metadata": {},
   "outputs": [
    {
     "data": {
      "text/plain": [
       "2"
      ]
     },
     "execution_count": 30,
     "metadata": {},
     "output_type": "execute_result"
    }
   ],
   "source": [
    "milista1.index(34)"
   ]
  },
  {
   "cell_type": "markdown",
   "id": "b021a9c5",
   "metadata": {},
   "source": [
    "La funcion **insert** sirve para agregar un elemento a una lista en una posicion específica"
   ]
  },
  {
   "cell_type": "code",
   "execution_count": 33,
   "id": "4acb4c41",
   "metadata": {},
   "outputs": [
    {
     "data": {
      "text/plain": [
       "[1, 66, 99, 34, 5, 7]"
      ]
     },
     "execution_count": 33,
     "metadata": {},
     "output_type": "execute_result"
    }
   ],
   "source": [
    "milista1.insert(1,66)\n",
    "milista1"
   ]
  },
  {
   "cell_type": "code",
   "execution_count": 34,
   "id": "8b0f9608",
   "metadata": {},
   "outputs": [
    {
     "data": {
      "text/plain": [
       "[1, 99, 99, 34, 5, 7]"
      ]
     },
     "execution_count": 34,
     "metadata": {},
     "output_type": "execute_result"
    }
   ],
   "source": [
    "milista1[1] = 99\n",
    "milista1"
   ]
  },
  {
   "cell_type": "markdown",
   "id": "d95805a8",
   "metadata": {},
   "source": [
    "Uso de tuplas"
   ]
  },
  {
   "cell_type": "code",
   "execution_count": 35,
   "id": "4bdcba6f",
   "metadata": {},
   "outputs": [],
   "source": [
    "mitupla = (1, True, \"Pablo\")"
   ]
  },
  {
   "cell_type": "code",
   "execution_count": 36,
   "id": "0b504e04",
   "metadata": {},
   "outputs": [
    {
     "data": {
      "text/plain": [
       "3"
      ]
     },
     "execution_count": 36,
     "metadata": {},
     "output_type": "execute_result"
    }
   ],
   "source": [
    "len(mitupla)"
   ]
  },
  {
   "cell_type": "code",
   "execution_count": 37,
   "id": "15554a82",
   "metadata": {},
   "outputs": [
    {
     "data": {
      "text/plain": [
       "'Pablo'"
      ]
     },
     "execution_count": 37,
     "metadata": {},
     "output_type": "execute_result"
    }
   ],
   "source": [
    "mitupla[2]"
   ]
  },
  {
   "cell_type": "code",
   "execution_count": 38,
   "id": "99513e45",
   "metadata": {},
   "outputs": [],
   "source": [
    "mitupla2 = 1,2,3,4,5,6,7,8,9"
   ]
  },
  {
   "cell_type": "markdown",
   "id": "42adc091",
   "metadata": {},
   "source": [
    "La funcion **count** devuelve el numero de elementos repetidos de acuerdo a uun elemento de busqueda"
   ]
  },
  {
   "cell_type": "code",
   "execution_count": 39,
   "id": "6d2dcece",
   "metadata": {},
   "outputs": [
    {
     "data": {
      "text/plain": [
       "1"
      ]
     },
     "execution_count": 39,
     "metadata": {},
     "output_type": "execute_result"
    }
   ],
   "source": [
    "mitupla2.count(5)"
   ]
  },
  {
   "cell_type": "code",
   "execution_count": 40,
   "id": "e9030a11",
   "metadata": {},
   "outputs": [
    {
     "data": {
      "text/plain": [
       "'Pablo Elias Ramirez Escalante'"
      ]
     },
     "execution_count": 40,
     "metadata": {},
     "output_type": "execute_result"
    }
   ],
   "source": [
    "nombre"
   ]
  },
  {
   "cell_type": "code",
   "execution_count": 41,
   "id": "2c18f75a",
   "metadata": {},
   "outputs": [
    {
     "data": {
      "text/plain": [
       "'i'"
      ]
     },
     "execution_count": 41,
     "metadata": {},
     "output_type": "execute_result"
    }
   ],
   "source": [
    "nombre[8]"
   ]
  },
  {
   "cell_type": "markdown",
   "id": "ec02354f",
   "metadata": {},
   "source": [
    "Ciclo For"
   ]
  },
  {
   "cell_type": "code",
   "execution_count": 42,
   "id": "ac9a6c36",
   "metadata": {},
   "outputs": [
    {
     "name": "stdout",
     "output_type": "stream",
     "text": [
      "P\n",
      "a\n",
      "b\n",
      "l\n",
      "o\n",
      " \n",
      "E\n",
      "l\n",
      "i\n",
      "a\n",
      "s\n",
      " \n",
      "R\n",
      "a\n",
      "m\n",
      "i\n",
      "r\n",
      "e\n",
      "z\n",
      " \n",
      "E\n",
      "s\n",
      "c\n",
      "a\n",
      "l\n",
      "a\n",
      "n\n",
      "t\n",
      "e\n"
     ]
    }
   ],
   "source": [
    "for elemento in nombre:\n",
    "    print(elemento)"
   ]
  },
  {
   "cell_type": "markdown",
   "id": "693b4f2c",
   "metadata": {},
   "source": [
    "### ------------------------------------------------------------------"
   ]
  },
  {
   "cell_type": "markdown",
   "id": "c3dac4e8",
   "metadata": {},
   "source": [
    "**Funciones en Python**"
   ]
  },
  {
   "cell_type": "markdown",
   "id": "653a8800",
   "metadata": {},
   "source": [
    "Las funciones se definen con una palabra clave **def** y se tienen la sintaxis:\n",
    "\n",
    "'''\n",
    "def nombre_funcion (parametros):\n",
    "'''\n",
    "\n",
    "Para devolver un valor utilizamos la palabra clave **return**"
   ]
  },
  {
   "cell_type": "markdown",
   "id": "dc350ac2",
   "metadata": {},
   "source": [
    "Ejemplo 1: Escribe una funcion en Python que encuentre el valor mas grande de una lista de numeros"
   ]
  },
  {
   "cell_type": "code",
   "execution_count": 43,
   "id": "e4dd4581",
   "metadata": {},
   "outputs": [],
   "source": [
    "def busca_mayor (lista):\n",
    "    resultado = lista[0]\n",
    "    for numero in lista:\n",
    "        if numero > resultado:\n",
    "            resultado = numero\n",
    "    print(\"El numero mas grande es\",resultado)"
   ]
  },
  {
   "cell_type": "code",
   "execution_count": 47,
   "id": "32daf192",
   "metadata": {},
   "outputs": [
    {
     "name": "stdout",
     "output_type": "stream",
     "text": [
      "El numero mas grande es  1.5\n"
     ]
    }
   ],
   "source": [
    "mylista = [1,1.5,-2]\n",
    "busca_mayor(mylista)"
   ]
  },
  {
   "cell_type": "code",
   "execution_count": 46,
   "id": "e6acfaa3",
   "metadata": {},
   "outputs": [
    {
     "data": {
      "text/plain": [
       "1"
      ]
     },
     "execution_count": 46,
     "metadata": {},
     "output_type": "execute_result"
    }
   ],
   "source": [
    "def busca_mayor2 (lista):\n",
    "    resultado = lista[0]\n",
    "    for numero in lista:\n",
    "        if numero > resultado:\n",
    "            resultado = numero\n",
    "        return resultado\n",
    "num_mayor = busca_mayor2 (mylista)\n",
    "num_mayor"
   ]
  },
  {
   "cell_type": "markdown",
   "id": "11917146",
   "metadata": {},
   "source": [
    "Ejemplo 2: Escribe una funcion en Python que lea un string y lo devuelva al reves"
   ]
  },
  {
   "cell_type": "code",
   "execution_count": 48,
   "id": "4166882b",
   "metadata": {},
   "outputs": [
    {
     "data": {
      "text/plain": [
       "[5, 4, 3, 2, 1, 0]"
      ]
     },
     "execution_count": 48,
     "metadata": {},
     "output_type": "execute_result"
    }
   ],
   "source": [
    "[x for x in range (5,-1,-1)]"
   ]
  },
  {
   "cell_type": "code",
   "execution_count": 51,
   "id": "264d4a7d",
   "metadata": {},
   "outputs": [
    {
     "name": "stdout",
     "output_type": "stream",
     "text": [
      "olbaP\n"
     ]
    }
   ],
   "source": [
    "def revierte_cadena(cadena):\n",
    "    resultado = \"\"\n",
    "    for index in range (len(cadena)-1,-1,-1):\n",
    "        resultado = resultado + cadena[index]\n",
    "    print(resultado)\n",
    "\n",
    "revierte_cadena(\"Pablo\")"
   ]
  },
  {
   "cell_type": "code",
   "execution_count": null,
   "id": "84d7041a",
   "metadata": {},
   "outputs": [],
   "source": []
  }
 ],
 "metadata": {
  "kernelspec": {
   "display_name": "Python 3 (ipykernel)",
   "language": "python",
   "name": "python3"
  },
  "language_info": {
   "codemirror_mode": {
    "name": "ipython",
    "version": 3
   },
   "file_extension": ".py",
   "mimetype": "text/x-python",
   "name": "python",
   "nbconvert_exporter": "python",
   "pygments_lexer": "ipython3",
   "version": "3.9.13"
  }
 },
 "nbformat": 4,
 "nbformat_minor": 5
}
