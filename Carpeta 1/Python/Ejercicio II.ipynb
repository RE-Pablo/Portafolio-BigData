{
 "cells": [
  {
   "cell_type": "markdown",
   "id": "13f77c06",
   "metadata": {},
   "source": [
    "**Ejercicios faltantes: 2 y 11**"
   ]
  },
  {
   "cell_type": "markdown",
   "id": "48dee115",
   "metadata": {},
   "source": [
    "### **Ejercicio 1:** Escribe una funcion que reciba un numero positivo entero n y muestre un cuadrado de tamaño nxn usando el numero postivo"
   ]
  },
  {
   "cell_type": "code",
   "execution_count": 54,
   "id": "0020f76a",
   "metadata": {},
   "outputs": [],
   "source": [
    "def imprimir_cuadrado(n):\n",
    "    for i in range(n):\n",
    "        for k in range(n):\n",
    "            print(n, end=' ')\n",
    "        print()"
   ]
  },
  {
   "cell_type": "code",
   "execution_count": 69,
   "id": "b4a4a52e",
   "metadata": {},
   "outputs": [
    {
     "name": "stdout",
     "output_type": "stream",
     "text": [
      "Escriba un solo numero positivo entero: 42\n",
      "42 42 42 42 42 42 42 42 42 42 42 42 42 42 42 42 42 42 42 42 42 42 42 42 42 42 42 42 42 42 42 42 42 42 42 42 42 42 42 42 42 42 \n",
      "42 42 42 42 42 42 42 42 42 42 42 42 42 42 42 42 42 42 42 42 42 42 42 42 42 42 42 42 42 42 42 42 42 42 42 42 42 42 42 42 42 42 \n",
      "42 42 42 42 42 42 42 42 42 42 42 42 42 42 42 42 42 42 42 42 42 42 42 42 42 42 42 42 42 42 42 42 42 42 42 42 42 42 42 42 42 42 \n",
      "42 42 42 42 42 42 42 42 42 42 42 42 42 42 42 42 42 42 42 42 42 42 42 42 42 42 42 42 42 42 42 42 42 42 42 42 42 42 42 42 42 42 \n",
      "42 42 42 42 42 42 42 42 42 42 42 42 42 42 42 42 42 42 42 42 42 42 42 42 42 42 42 42 42 42 42 42 42 42 42 42 42 42 42 42 42 42 \n",
      "42 42 42 42 42 42 42 42 42 42 42 42 42 42 42 42 42 42 42 42 42 42 42 42 42 42 42 42 42 42 42 42 42 42 42 42 42 42 42 42 42 42 \n",
      "42 42 42 42 42 42 42 42 42 42 42 42 42 42 42 42 42 42 42 42 42 42 42 42 42 42 42 42 42 42 42 42 42 42 42 42 42 42 42 42 42 42 \n",
      "42 42 42 42 42 42 42 42 42 42 42 42 42 42 42 42 42 42 42 42 42 42 42 42 42 42 42 42 42 42 42 42 42 42 42 42 42 42 42 42 42 42 \n",
      "42 42 42 42 42 42 42 42 42 42 42 42 42 42 42 42 42 42 42 42 42 42 42 42 42 42 42 42 42 42 42 42 42 42 42 42 42 42 42 42 42 42 \n",
      "42 42 42 42 42 42 42 42 42 42 42 42 42 42 42 42 42 42 42 42 42 42 42 42 42 42 42 42 42 42 42 42 42 42 42 42 42 42 42 42 42 42 \n",
      "42 42 42 42 42 42 42 42 42 42 42 42 42 42 42 42 42 42 42 42 42 42 42 42 42 42 42 42 42 42 42 42 42 42 42 42 42 42 42 42 42 42 \n",
      "42 42 42 42 42 42 42 42 42 42 42 42 42 42 42 42 42 42 42 42 42 42 42 42 42 42 42 42 42 42 42 42 42 42 42 42 42 42 42 42 42 42 \n",
      "42 42 42 42 42 42 42 42 42 42 42 42 42 42 42 42 42 42 42 42 42 42 42 42 42 42 42 42 42 42 42 42 42 42 42 42 42 42 42 42 42 42 \n",
      "42 42 42 42 42 42 42 42 42 42 42 42 42 42 42 42 42 42 42 42 42 42 42 42 42 42 42 42 42 42 42 42 42 42 42 42 42 42 42 42 42 42 \n",
      "42 42 42 42 42 42 42 42 42 42 42 42 42 42 42 42 42 42 42 42 42 42 42 42 42 42 42 42 42 42 42 42 42 42 42 42 42 42 42 42 42 42 \n",
      "42 42 42 42 42 42 42 42 42 42 42 42 42 42 42 42 42 42 42 42 42 42 42 42 42 42 42 42 42 42 42 42 42 42 42 42 42 42 42 42 42 42 \n",
      "42 42 42 42 42 42 42 42 42 42 42 42 42 42 42 42 42 42 42 42 42 42 42 42 42 42 42 42 42 42 42 42 42 42 42 42 42 42 42 42 42 42 \n",
      "42 42 42 42 42 42 42 42 42 42 42 42 42 42 42 42 42 42 42 42 42 42 42 42 42 42 42 42 42 42 42 42 42 42 42 42 42 42 42 42 42 42 \n",
      "42 42 42 42 42 42 42 42 42 42 42 42 42 42 42 42 42 42 42 42 42 42 42 42 42 42 42 42 42 42 42 42 42 42 42 42 42 42 42 42 42 42 \n",
      "42 42 42 42 42 42 42 42 42 42 42 42 42 42 42 42 42 42 42 42 42 42 42 42 42 42 42 42 42 42 42 42 42 42 42 42 42 42 42 42 42 42 \n",
      "42 42 42 42 42 42 42 42 42 42 42 42 42 42 42 42 42 42 42 42 42 42 42 42 42 42 42 42 42 42 42 42 42 42 42 42 42 42 42 42 42 42 \n",
      "42 42 42 42 42 42 42 42 42 42 42 42 42 42 42 42 42 42 42 42 42 42 42 42 42 42 42 42 42 42 42 42 42 42 42 42 42 42 42 42 42 42 \n",
      "42 42 42 42 42 42 42 42 42 42 42 42 42 42 42 42 42 42 42 42 42 42 42 42 42 42 42 42 42 42 42 42 42 42 42 42 42 42 42 42 42 42 \n",
      "42 42 42 42 42 42 42 42 42 42 42 42 42 42 42 42 42 42 42 42 42 42 42 42 42 42 42 42 42 42 42 42 42 42 42 42 42 42 42 42 42 42 \n",
      "42 42 42 42 42 42 42 42 42 42 42 42 42 42 42 42 42 42 42 42 42 42 42 42 42 42 42 42 42 42 42 42 42 42 42 42 42 42 42 42 42 42 \n",
      "42 42 42 42 42 42 42 42 42 42 42 42 42 42 42 42 42 42 42 42 42 42 42 42 42 42 42 42 42 42 42 42 42 42 42 42 42 42 42 42 42 42 \n",
      "42 42 42 42 42 42 42 42 42 42 42 42 42 42 42 42 42 42 42 42 42 42 42 42 42 42 42 42 42 42 42 42 42 42 42 42 42 42 42 42 42 42 \n",
      "42 42 42 42 42 42 42 42 42 42 42 42 42 42 42 42 42 42 42 42 42 42 42 42 42 42 42 42 42 42 42 42 42 42 42 42 42 42 42 42 42 42 \n",
      "42 42 42 42 42 42 42 42 42 42 42 42 42 42 42 42 42 42 42 42 42 42 42 42 42 42 42 42 42 42 42 42 42 42 42 42 42 42 42 42 42 42 \n",
      "42 42 42 42 42 42 42 42 42 42 42 42 42 42 42 42 42 42 42 42 42 42 42 42 42 42 42 42 42 42 42 42 42 42 42 42 42 42 42 42 42 42 \n",
      "42 42 42 42 42 42 42 42 42 42 42 42 42 42 42 42 42 42 42 42 42 42 42 42 42 42 42 42 42 42 42 42 42 42 42 42 42 42 42 42 42 42 \n",
      "42 42 42 42 42 42 42 42 42 42 42 42 42 42 42 42 42 42 42 42 42 42 42 42 42 42 42 42 42 42 42 42 42 42 42 42 42 42 42 42 42 42 \n",
      "42 42 42 42 42 42 42 42 42 42 42 42 42 42 42 42 42 42 42 42 42 42 42 42 42 42 42 42 42 42 42 42 42 42 42 42 42 42 42 42 42 42 \n",
      "42 42 42 42 42 42 42 42 42 42 42 42 42 42 42 42 42 42 42 42 42 42 42 42 42 42 42 42 42 42 42 42 42 42 42 42 42 42 42 42 42 42 \n",
      "42 42 42 42 42 42 42 42 42 42 42 42 42 42 42 42 42 42 42 42 42 42 42 42 42 42 42 42 42 42 42 42 42 42 42 42 42 42 42 42 42 42 \n",
      "42 42 42 42 42 42 42 42 42 42 42 42 42 42 42 42 42 42 42 42 42 42 42 42 42 42 42 42 42 42 42 42 42 42 42 42 42 42 42 42 42 42 \n",
      "42 42 42 42 42 42 42 42 42 42 42 42 42 42 42 42 42 42 42 42 42 42 42 42 42 42 42 42 42 42 42 42 42 42 42 42 42 42 42 42 42 42 \n",
      "42 42 42 42 42 42 42 42 42 42 42 42 42 42 42 42 42 42 42 42 42 42 42 42 42 42 42 42 42 42 42 42 42 42 42 42 42 42 42 42 42 42 \n",
      "42 42 42 42 42 42 42 42 42 42 42 42 42 42 42 42 42 42 42 42 42 42 42 42 42 42 42 42 42 42 42 42 42 42 42 42 42 42 42 42 42 42 \n",
      "42 42 42 42 42 42 42 42 42 42 42 42 42 42 42 42 42 42 42 42 42 42 42 42 42 42 42 42 42 42 42 42 42 42 42 42 42 42 42 42 42 42 \n",
      "42 42 42 42 42 42 42 42 42 42 42 42 42 42 42 42 42 42 42 42 42 42 42 42 42 42 42 42 42 42 42 42 42 42 42 42 42 42 42 42 42 42 \n",
      "42 42 42 42 42 42 42 42 42 42 42 42 42 42 42 42 42 42 42 42 42 42 42 42 42 42 42 42 42 42 42 42 42 42 42 42 42 42 42 42 42 42 \n"
     ]
    }
   ],
   "source": [
    "n = int(input(\"Escriba un solo numero positivo entero: \"))\n",
    "imprimir_cuadrado(n)"
   ]
  },
  {
   "cell_type": "markdown",
   "id": "50991909",
   "metadata": {},
   "source": [
    "### **Ejercicio 2:** Escribe una funcion en Python que encuentre el palindromo más cercano al valor de un número. Si hay dos palindromos cuya distancia absoluta es la misma muestra el valor más pequeño"
   ]
  },
  {
   "cell_type": "markdown",
   "id": "37a1f30a",
   "metadata": {},
   "source": [
    "### **Ejercicio 3:** Escribe una funcion en Python que encuentre los digitos que no aparecen en un dado numero de teléfono"
   ]
  },
  {
   "cell_type": "code",
   "execution_count": 12,
   "id": "28ebf9d0",
   "metadata": {},
   "outputs": [],
   "source": [
    "def encontrar_digitos_faltantes(numero):\n",
    "    digitos_faltantes = []\n",
    "    for i in range(10):\n",
    "        if str(i) not in numero:\n",
    "            digitos_faltantes.append(i)\n",
    "    print(\"Numeros faltantes:\",digitos_faltantes)"
   ]
  },
  {
   "cell_type": "code",
   "execution_count": 13,
   "id": "190aafb9",
   "metadata": {},
   "outputs": [
    {
     "name": "stdout",
     "output_type": "stream",
     "text": [
      "Escribe un numero de telefono: 5570100342\n",
      "Numeros faltantes: [6, 8, 9]\n"
     ]
    }
   ],
   "source": [
    "numero = input(\"Escribe un numero de telefono: \")\n",
    "encontrar_digitos_faltantes(numero)"
   ]
  },
  {
   "cell_type": "markdown",
   "id": "99ff8bee",
   "metadata": {},
   "source": [
    "### **Ejercicio 4:** Escribe una funcion en Python que calcule la suma de los digitos de un número"
   ]
  },
  {
   "cell_type": "code",
   "execution_count": 14,
   "id": "c5d08bce",
   "metadata": {},
   "outputs": [],
   "source": [
    "def sumar_digitos(numero):\n",
    "    suma = 0\n",
    "    while numero > 0:\n",
    "        digito = numero % 10\n",
    "        suma += digito\n",
    "        numero //= 10\n",
    "    print(\"La suma es igual a:\",suma)"
   ]
  },
  {
   "cell_type": "code",
   "execution_count": 15,
   "id": "16fd8229",
   "metadata": {},
   "outputs": [
    {
     "name": "stdout",
     "output_type": "stream",
     "text": [
      "Escribe cualquier numero entero y te regreso la suma de sus digitos: 6497\n",
      "La suma es igual a: 26\n"
     ]
    }
   ],
   "source": [
    "numero = int(input(\"Escribe cualquier numero entero y te regreso la suma de sus digitos: \"))\n",
    "sumar_digitos(numero)"
   ]
  },
  {
   "cell_type": "markdown",
   "id": "d63725bf",
   "metadata": {},
   "source": [
    "### **Ejercicio 5:** Escribe una función en Python que reciba una oración y la convierta a una lista de palabras"
   ]
  },
  {
   "cell_type": "code",
   "execution_count": 16,
   "id": "beac1efe",
   "metadata": {},
   "outputs": [],
   "source": [
    "def oracion_a_lista(oracion):\n",
    "    palabras = oracion.split()\n",
    "    return palabras"
   ]
  },
  {
   "cell_type": "code",
   "execution_count": 18,
   "id": "7bb9470a",
   "metadata": {},
   "outputs": [
    {
     "name": "stdout",
     "output_type": "stream",
     "text": [
      "Escribe una oracion y te la devuelvo en una lista: mi nombre es pablo\n"
     ]
    },
    {
     "data": {
      "text/plain": [
       "['mi', 'nombre', 'es', 'pablo']"
      ]
     },
     "execution_count": 18,
     "metadata": {},
     "output_type": "execute_result"
    }
   ],
   "source": [
    "oracion = input(\"Escribe una oracion y te la devuelvo en una lista: \")\n",
    "oracion_a_lista(oracion)"
   ]
  },
  {
   "cell_type": "markdown",
   "id": "45ad588c",
   "metadata": {},
   "source": [
    "### **Ejercicio 6:** Escribe una función en Python que encuntre el dígito más grande y el más pequeño de un número"
   ]
  },
  {
   "cell_type": "code",
   "execution_count": 19,
   "id": "598e86ea",
   "metadata": {},
   "outputs": [],
   "source": [
    "def encontrar_extremos(numero):\n",
    "    digitos = [int(digito) for digito in str(numero)]\n",
    "    maximo = max(digitos)\n",
    "    minimo = min(digitos)\n",
    "    print(\"numero max:\",maximo, \"\\nnumero min:\",minimo)"
   ]
  },
  {
   "cell_type": "code",
   "execution_count": 20,
   "id": "b395db91",
   "metadata": {},
   "outputs": [
    {
     "name": "stdout",
     "output_type": "stream",
     "text": [
      "Escribe un numero y te regreso el digito mas grande y el mas pequeño: 671613204\n",
      "numero max: 7 \n",
      "numero min: 0\n"
     ]
    }
   ],
   "source": [
    "numero = int(input(\"Escribe un numero y te regreso el digito mas grande y el mas pequeño: \"))\n",
    "encontrar_extremos(numero)"
   ]
  },
  {
   "cell_type": "markdown",
   "id": "35fc2ee2",
   "metadata": {},
   "source": [
    "### **Ejercicio 7:** Escribe una función en Python que indique si en una cadena de caracteres aparecen dos simbolos iguales consecutivos"
   ]
  },
  {
   "cell_type": "code",
   "execution_count": 21,
   "id": "ac8b65c8",
   "metadata": {},
   "outputs": [],
   "source": [
    "def tiene_simbolos_consecutivos(cadena):\n",
    "    for i in range(len(cadena) - 1):\n",
    "        if cadena[i] == cadena[i + 1]:\n",
    "            return print(\"Deteccion de simbolo o simbolos repetidos consecutivamente:\")\n",
    "    print(\"No se repite consecutivamente ningun simbolo\")"
   ]
  },
  {
   "cell_type": "code",
   "execution_count": 22,
   "id": "d2f8ef05",
   "metadata": {},
   "outputs": [
    {
     "name": "stdout",
     "output_type": "stream",
     "text": [
      "Escribe una cadena: como cuando estoy en el cine me siento feliz\n",
      "No se repite consecutivamente ningun simbolo\n"
     ]
    }
   ],
   "source": [
    "cadena = input(\"Escribe una cadena: \")\n",
    "tiene_simbolos_consecutivos(cadena)"
   ]
  },
  {
   "cell_type": "markdown",
   "id": "fbd4be67",
   "metadata": {},
   "source": [
    "### **Ejercicio 8:** Escribe una función en Python que reciba una lista de palabras e indique la palabra más larga y su tamaño"
   ]
  },
  {
   "cell_type": "code",
   "execution_count": 23,
   "id": "a6062bbf",
   "metadata": {},
   "outputs": [],
   "source": [
    "def palabra_mas_larga(lista_palabras):\n",
    "    palabra_mas_larga = \"\"\n",
    "    longitud_palabra_mas_larga = 0\n",
    "    for palabra in lista_palabras:\n",
    "        if len(palabra) > longitud_palabra_mas_larga:\n",
    "            palabra_mas_larga = palabra\n",
    "            longitud_palabra_mas_larga = len(palabra)\n",
    "    print(\"La palabra más larga del texto es:\",palabra_mas_larga, \"\\nSu longitud es de:\",longitud_palabra_mas_larga,\"letras\")"
   ]
  },
  {
   "cell_type": "code",
   "execution_count": 24,
   "id": "232dfa41",
   "metadata": {},
   "outputs": [
    {
     "name": "stdout",
     "output_type": "stream",
     "text": [
      "Ingresa una cadena de texto: mi nombre es pablo\n",
      "La palabra más larga del texto es: nombre \n",
      "Su longitud es de: 6 letras\n"
     ]
    }
   ],
   "source": [
    "lista_palabras = input(\"Ingresa una cadena de texto: \")\n",
    "palabra_mas_larga(lista_palabras.split())"
   ]
  },
  {
   "cell_type": "markdown",
   "id": "cfd64579",
   "metadata": {},
   "source": [
    "### **Ejercicio 9:** Escribe una función en Python que reciba una cadena de caracteres y elimine aquellos cuyo indice sea un\n",
    "numero impar"
   ]
  },
  {
   "cell_type": "code",
   "execution_count": 25,
   "id": "33013a9b",
   "metadata": {},
   "outputs": [],
   "source": [
    "def eliminar_caracteres_impares(cadena):\n",
    "    nueva_cadena = \"\"\n",
    "    for i in range(len(cadena)):\n",
    "        if i % 2 == 0:\n",
    "            nueva_cadena += cadena[i]\n",
    "    print(\"Cadena de texto sin las letras con indice impar:\",nueva_cadena)"
   ]
  },
  {
   "cell_type": "code",
   "execution_count": 26,
   "id": "db92b006",
   "metadata": {},
   "outputs": [
    {
     "name": "stdout",
     "output_type": "stream",
     "text": [
      "Escribe una cadena de texto: mi nombre es pablo\n",
      "Cadena de texto sin las letras con indice impar: m obee al\n"
     ]
    }
   ],
   "source": [
    "cadena = input(\"Escribe una cadena de texto: \")\n",
    "eliminar_caracteres_impares(cadena)"
   ]
  },
  {
   "cell_type": "markdown",
   "id": "ab40e602",
   "metadata": {},
   "source": [
    "### **Ejercicio 10:** Escribe una funcion en Python que ordene una cadena de caracteres de manera lexicográfica"
   ]
  },
  {
   "cell_type": "code",
   "execution_count": 27,
   "id": "adc00c60",
   "metadata": {},
   "outputs": [],
   "source": [
    "def ordenar_cadena(cadena):\n",
    "    print(\"Cadena ordenada lexicograficamente:\", ''.join(sorted(cadena)))"
   ]
  },
  {
   "cell_type": "code",
   "execution_count": 28,
   "id": "c3bce134",
   "metadata": {},
   "outputs": [
    {
     "name": "stdout",
     "output_type": "stream",
     "text": [
      "Escribe una cadena de texto: mi nombre es pablo\n",
      "Cadena ordenada lexicograficamente:    abbeeilmmnooprs\n"
     ]
    }
   ],
   "source": [
    "cadena = input(\"Escribe una cadena de texto: \")\n",
    "ordenar_cadena(cadena)"
   ]
  },
  {
   "cell_type": "markdown",
   "id": "854d1812",
   "metadata": {},
   "source": [
    "### **Ejercicio 11:** Escribe una función en Python que reciba un conjunto de valores RGB y los convierta a código Hexadecimal"
   ]
  },
  {
   "cell_type": "code",
   "execution_count": null,
   "id": "de7ca5c3",
   "metadata": {},
   "outputs": [],
   "source": [
    "def rgb_a_hex(rgb):\n",
    "    r, g, b = rgb\n",
    "    return \"#{:02x}{:02x}{:02x}\".format(r, g, b)"
   ]
  },
  {
   "cell_type": "code",
   "execution_count": null,
   "id": "3a825691",
   "metadata": {},
   "outputs": [],
   "source": [
    "rgb = (0, 0, 255)\n",
    "rgb_a_hex(rgb)"
   ]
  },
  {
   "cell_type": "markdown",
   "id": "9cd4700e",
   "metadata": {},
   "source": [
    "### **Ejercicio 12:** Escribe una funcion en Python que convierta los valores de una tupla a string"
   ]
  },
  {
   "cell_type": "code",
   "execution_count": 31,
   "id": "2e864a02",
   "metadata": {},
   "outputs": [],
   "source": [
    "def tupla_a_string(tupla):\n",
    "    return tuple(str(x) for x in tupla)"
   ]
  },
  {
   "cell_type": "code",
   "execution_count": 32,
   "id": "b38c9af7",
   "metadata": {},
   "outputs": [
    {
     "data": {
      "text/plain": [
       "('Hola', '2', 'Como estas', 'True')"
      ]
     },
     "execution_count": 32,
     "metadata": {},
     "output_type": "execute_result"
    }
   ],
   "source": [
    "tupla = (\"Hola\",2,\"Como estas\",True)\n",
    "tupla_a_string(tupla)"
   ]
  },
  {
   "cell_type": "markdown",
   "id": "7b4d17a7",
   "metadata": {},
   "source": [
    "### **Ejercicio 13:** Ecribe una funcion en Python que sume todos los valores numericos de una lista"
   ]
  },
  {
   "cell_type": "code",
   "execution_count": 36,
   "id": "5c5b030e",
   "metadata": {},
   "outputs": [],
   "source": [
    "def sumar_valores_numericos(lista):\n",
    "    suma = 0\n",
    "    for elemento in lista:\n",
    "            suma += elemento\n",
    "    return suma"
   ]
  },
  {
   "cell_type": "code",
   "execution_count": 40,
   "id": "c92c21de",
   "metadata": {},
   "outputs": [
    {
     "data": {
      "text/plain": [
       "21"
      ]
     },
     "execution_count": 40,
     "metadata": {},
     "output_type": "execute_result"
    }
   ],
   "source": [
    "lista = [1,2,3,4,5,6]\n",
    "sumar_valores_numericos(lista)"
   ]
  },
  {
   "cell_type": "markdown",
   "id": "d9c3a56a",
   "metadata": {},
   "source": [
    "### **Ejercicio 14:** Escribe una funcion en Python que remueva valores duplicados de una lista"
   ]
  },
  {
   "cell_type": "code",
   "execution_count": 43,
   "id": "819df5e5",
   "metadata": {},
   "outputs": [],
   "source": [
    "def remover_duplicados(lista):\n",
    "    print(\"Lista con valores duplicados:\",list(set(lista)))"
   ]
  },
  {
   "cell_type": "code",
   "execution_count": 45,
   "id": "bbaf494e",
   "metadata": {},
   "outputs": [
    {
     "name": "stdout",
     "output_type": "stream",
     "text": [
      "Lista con valores duplicados: [5, 6, 7, 8, 9, 10, 11, 13, 45]\n"
     ]
    }
   ],
   "source": [
    "lista = [5,5,5,5,6,8,9,7,10,11,13,45,45]\n",
    "remover_duplicados(lista)"
   ]
  },
  {
   "cell_type": "markdown",
   "id": "573ecb95",
   "metadata": {},
   "source": [
    "### **Ejercicio 15:** Escribe una función en Python que revise si una lista está vacia o no"
   ]
  },
  {
   "cell_type": "code",
   "execution_count": 81,
   "id": "695b0b2a",
   "metadata": {},
   "outputs": [],
   "source": [
    "def lista_vacia(lista):\n",
    "    if len(lista) == 0:\n",
    "        print(\"La lista esta vacia\")\n",
    "    else:\n",
    "        print(\"La lista no esta vacia:\",lista)"
   ]
  },
  {
   "cell_type": "code",
   "execution_count": 83,
   "id": "d7ade248",
   "metadata": {},
   "outputs": [
    {
     "name": "stdout",
     "output_type": "stream",
     "text": [
      "La lista no esta vacia: [4, 5, 'hola', 6, True]\n"
     ]
    }
   ],
   "source": [
    "lista = [4,5, \"hola\", 6, True]\n",
    "lista_vacia(lista)"
   ]
  }
 ],
 "metadata": {
  "kernelspec": {
   "display_name": "Python 3 (ipykernel)",
   "language": "python",
   "name": "python3"
  },
  "language_info": {
   "codemirror_mode": {
    "name": "ipython",
    "version": 3
   },
   "file_extension": ".py",
   "mimetype": "text/x-python",
   "name": "python",
   "nbconvert_exporter": "python",
   "pygments_lexer": "ipython3",
   "version": "3.9.13"
  }
 },
 "nbformat": 4,
 "nbformat_minor": 5
}
