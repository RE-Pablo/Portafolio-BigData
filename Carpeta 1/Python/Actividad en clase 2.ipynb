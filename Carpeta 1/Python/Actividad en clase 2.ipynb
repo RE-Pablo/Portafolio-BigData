{
 "cells": [
  {
   "cell_type": "markdown",
   "id": "858ef91c",
   "metadata": {},
   "source": [
    "Ejercicio 1: Programa que muestre en pantalla la cadena de texto ¡Hola Mundo!"
   ]
  },
  {
   "cell_type": "code",
   "execution_count": 3,
   "id": "701f6090",
   "metadata": {},
   "outputs": [
    {
     "name": "stdout",
     "output_type": "stream",
     "text": [
      "Hola Mundo\n"
     ]
    }
   ],
   "source": [
    "print(\"Hola Mundo\")"
   ]
  },
  {
   "cell_type": "markdown",
   "id": "deea2d85",
   "metadata": {},
   "source": [
    "Ejercicio 2: Programa que almacena la cadena !Hola Mundo¡ en una variable y luego muestra por pantalla el contenido de la variable"
   ]
  },
  {
   "cell_type": "code",
   "execution_count": 4,
   "id": "d368cd99",
   "metadata": {},
   "outputs": [
    {
     "name": "stdout",
     "output_type": "stream",
     "text": [
      "Hola mundo\n"
     ]
    }
   ],
   "source": [
    "texto = \"Hola mundo\"\n",
    "print(texto)"
   ]
  },
  {
   "cell_type": "markdown",
   "id": "cf8792f3",
   "metadata": {},
   "source": [
    "Ejercicio 3: Programa que pregunta el nombre del usuario en consola y despues por pantalla la cadena ¡Hola nombre! donde nombre\n",
    "es el nombre que el usuario introdujo"
   ]
  },
  {
   "cell_type": "code",
   "execution_count": 7,
   "id": "4d99a2d0",
   "metadata": {},
   "outputs": [
    {
     "name": "stdout",
     "output_type": "stream",
     "text": [
      "Ingresa tu nombrepablo\n",
      "¡Hola pablo!\n"
     ]
    }
   ],
   "source": [
    "nombre = input(\"Ingresa tu nombre\")\n",
    "\n",
    "print(\"¡Hola \" +nombre+ \"!\")"
   ]
  },
  {
   "cell_type": "markdown",
   "id": "4da164ba",
   "metadata": {},
   "source": [
    "Ejercicio 4: Escribe un programa que pregunte al usuario por el numero de horas trabajadas y el costo por hora. Despues debe\n",
    "mostrar por pantalla la paga que corresponde"
   ]
  },
  {
   "cell_type": "code",
   "execution_count": 17,
   "id": "94a9ffea",
   "metadata": {},
   "outputs": [
    {
     "name": "stdout",
     "output_type": "stream",
     "text": [
      "Ingresa las horas trabajadas: 5\n",
      "Costo por hora: 2\n",
      "Paga correspondiente:  10\n"
     ]
    }
   ],
   "source": [
    "horas = int(input(\"Ingresa las horas trabajadas: \"))\n",
    "costo = int(input(\"Costo por hora: \"))\n",
    "\n",
    "resultado = horas * costo\n",
    "print (\"Paga correspondiente: \",resultado)"
   ]
  },
  {
   "cell_type": "markdown",
   "id": "f15df1fd",
   "metadata": {},
   "source": [
    "Ejercicio 5:Programa que solicita al usuario un entero n y computa el valor de n + n**2 + n**3"
   ]
  },
  {
   "cell_type": "code",
   "execution_count": 27,
   "id": "5fe62e84",
   "metadata": {},
   "outputs": [
    {
     "name": "stdout",
     "output_type": "stream",
     "text": [
      "Ingresa un numero entero: 5\n",
      "Resultado:  155\n"
     ]
    }
   ],
   "source": [
    "num = int(input(\"Ingresa un numero entero: \"))\n",
    "\n",
    "potencia= num + num**2 + num**3\n",
    "\n",
    "print(\"Resultado: \",potencia)"
   ]
  },
  {
   "cell_type": "markdown",
   "id": "37622ec7",
   "metadata": {},
   "source": [
    "Ejercicio 6:Programa que calcula el volumen de una espefera con radio r"
   ]
  },
  {
   "cell_type": "code",
   "execution_count": 31,
   "id": "52bc093e",
   "metadata": {},
   "outputs": [
    {
     "name": "stdout",
     "output_type": "stream",
     "text": [
      "Ingresa el valor del radio de tu circulo5\n",
      "El volumen de una esfera con radio 5.0 es  523.5987755982989\n"
     ]
    }
   ],
   "source": [
    "import math\n",
    "radio = float(input(\"Ingresa el valor del radio de tu circulo\"))\n",
    "\n",
    "volumen = (4/3 * math.pi) * radio**3\n",
    "print(\"El volumen de una esfera con radio\",radio, \"es \",volumen)"
   ]
  },
  {
   "cell_type": "markdown",
   "id": "3d643517",
   "metadata": {},
   "source": [
    "Ejercicio 7: Programa que calcula el área de un triangulo"
   ]
  },
  {
   "cell_type": "code",
   "execution_count": 33,
   "id": "1f002908",
   "metadata": {},
   "outputs": [
    {
     "name": "stdout",
     "output_type": "stream",
     "text": [
      "Ingresa la base del triangulo:5\n",
      "Ingresa la altura del triangulo:5\n",
      "El área de un triangulo con base 5.0 y altura 5.0 es 12.5\n"
     ]
    }
   ],
   "source": [
    "base = float(input(\"Ingresa la base del triangulo:\"))\n",
    "altura = float(input(\"Ingresa la altura del triangulo:\"))\n",
    "area = (base*altura)/2\n",
    "\n",
    "print(\"El área de un triangulo con base\",base,\"y altura\",altura,\"es\",area)"
   ]
  },
  {
   "cell_type": "markdown",
   "id": "1ca27177",
   "metadata": {},
   "source": [
    "Ejericio 8: Programa que regresa tu nombre de alumno escrito n veces"
   ]
  },
  {
   "cell_type": "code",
   "execution_count": 51,
   "id": "e1d54b5f",
   "metadata": {},
   "outputs": [
    {
     "name": "stdout",
     "output_type": "stream",
     "text": [
      "Ingresa tu nombre completo:pablo\n",
      "¿Cuántas veces deseas repetir tu nombre?3\n",
      "pablo\n",
      "pablo\n",
      "pablo\n"
     ]
    }
   ],
   "source": [
    "nombre = input(\"Ingresa tu nombre completo:\")\n",
    "n = int(input(\"¿Cuántas veces deseas repetir tu nombre?\"))\n",
    "\n",
    "for n in range(n):\n",
    "    print(nombre)"
   ]
  },
  {
   "cell_type": "markdown",
   "id": "60c7239b",
   "metadata": {},
   "source": [
    "Programa 9: Programa que resuelve la ecuación (x+y)^2"
   ]
  },
  {
   "cell_type": "code",
   "execution_count": 56,
   "id": "05549c0f",
   "metadata": {},
   "outputs": [
    {
     "name": "stdout",
     "output_type": "stream",
     "text": [
      "Programa que resuelve la ecuacion (x+y)^2\n",
      "Ingresa el valor de x:66\n",
      "Ingresa el valor de y:6\n",
      "Resultado: 5184\n"
     ]
    }
   ],
   "source": [
    "print(\"Programa que resuelve la ecuacion (x+y)^2\")\n",
    "\n",
    "x = int(input(\"Ingresa el valor de x:\"))\n",
    "y = int(input(\"Ingresa el valor de y:\"))\n",
    "ecuacion = (x+y)**2\n",
    "\n",
    "print(\"Resultado:\",ecuacion)"
   ]
  },
  {
   "cell_type": "markdown",
   "id": "46e4c03e",
   "metadata": {},
   "source": [
    "Programa 10: Programa que calcula la distancia entre dos puntos (x1,y1) y (x2,y2)"
   ]
  },
  {
   "cell_type": "code",
   "execution_count": 61,
   "id": "6143aa84",
   "metadata": {},
   "outputs": [
    {
     "name": "stdout",
     "output_type": "stream",
     "text": [
      "Distancia entre dos puntos: \n",
      "Ingresa el valor para x1:10\n",
      "Ingresa el valor para x2:5\n",
      "Ingresa el valor para y1:8\n",
      "Ingresa el valor para y2:6\n",
      "Resultado: 5.385164807134504\n"
     ]
    }
   ],
   "source": [
    "import math\n",
    "print(\"Distancia entre dos puntos: \")\n",
    "\n",
    "x1 = float(input(\"Ingresa el valor para x1:\"))\n",
    "x2 = float(input(\"Ingresa el valor para x2:\"))\n",
    "y1 = float(input(\"Ingresa el valor para y1:\"))\n",
    "y2 = float(input(\"Ingresa el valor para y2:\"))\n",
    "\n",
    "distancia = math.sqrt(((x2-x1)**2)+((y2-y1)**2))\n",
    "print(\"Resultado:\",distancia)"
   ]
  },
  {
   "cell_type": "markdown",
   "id": "be8b7ae5",
   "metadata": {},
   "source": [
    "Programa 11: Programa que calcula el valor de la hipotenusa de un triangulo"
   ]
  },
  {
   "cell_type": "code",
   "execution_count": 63,
   "id": "b1731d06",
   "metadata": {},
   "outputs": [
    {
     "name": "stdout",
     "output_type": "stream",
     "text": [
      "Cálculo de la hipotenusa de un triangulo\n",
      "Ingresa el valor para a:5\n",
      "Ingresa el valor para b:5\n",
      "La hipotenusa es: 7.0710678118654755\n"
     ]
    }
   ],
   "source": [
    "import math\n",
    "print(\"Cálculo de la hipotenusa de un triangulo\")\n",
    "\n",
    "a = float(input(\"Ingresa el valor para a:\"))\n",
    "b = float(input(\"Ingresa el valor para b:\"))\n",
    "h = math.sqrt((a**2) + (b**2))\n",
    "\n",
    "print(\"La hipotenusa es:\",h)"
   ]
  },
  {
   "cell_type": "markdown",
   "id": "2e10aded",
   "metadata": {},
   "source": [
    "Programa 12: Programa que solicita al usuario un valor en metros y regresa la equivalencia en pulgadas, yardas y millas"
   ]
  },
  {
   "cell_type": "code",
   "execution_count": 72,
   "id": "e056a173",
   "metadata": {},
   "outputs": [
    {
     "name": "stdout",
     "output_type": "stream",
     "text": [
      "Conversion de metros a pulgadas, yardas y millas\n",
      "Ingresa valor en metros:5\n",
      "5.0 metros son equivalentes a 5.46805 yardas y 0.003106855 millas\n"
     ]
    }
   ],
   "source": [
    "print(\"Conversion de metros a pulgadas, yardas y millas\")\n",
    "\n",
    "m = float(input(\"Ingresa valor en metros:\"))\n",
    "y = m * 1.09361\n",
    "mll = m * 0.000621371\n",
    "print (+m,\"metros son equivalentes a\",y,\"yardas y\",mll,\"millas\")"
   ]
  }
 ],
 "metadata": {
  "kernelspec": {
   "display_name": "Python 3 (ipykernel)",
   "language": "python",
   "name": "python3"
  },
  "language_info": {
   "codemirror_mode": {
    "name": "ipython",
    "version": 3
   },
   "file_extension": ".py",
   "mimetype": "text/x-python",
   "name": "python",
   "nbconvert_exporter": "python",
   "pygments_lexer": "ipython3",
   "version": "3.9.13"
  }
 },
 "nbformat": 4,
 "nbformat_minor": 5
}
