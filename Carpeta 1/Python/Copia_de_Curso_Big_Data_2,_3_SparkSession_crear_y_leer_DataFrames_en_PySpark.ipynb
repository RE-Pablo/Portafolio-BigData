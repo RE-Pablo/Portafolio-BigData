{
  "cells": [
    {
      "cell_type": "markdown",
      "metadata": {
        "id": "t39Ud4FngOYH"
      },
      "source": [
        "# Curso Big Data #2 - SparkSession crear y leer DataFrames en PySpark"
      ]
    },
    {
      "cell_type": "markdown",
      "metadata": {
        "id": "1HPkd1pSgOYI"
      },
      "source": [
        "# Librerías"
      ]
    },
    {
      "cell_type": "code",
      "source": [
        "!pip install findspark\n",
        "!pip install pyspark"
      ],
      "metadata": {
        "colab": {
          "base_uri": "https://localhost:8080/"
        },
        "id": "eyO9ovRegcet",
        "outputId": "288642cc-eff3-4d3a-db23-acccbc3744ee"
      },
      "execution_count": null,
      "outputs": [
        {
          "output_type": "stream",
          "name": "stdout",
          "text": [
            "Collecting findspark\n",
            "  Downloading findspark-2.0.1-py2.py3-none-any.whl (4.4 kB)\n",
            "Installing collected packages: findspark\n",
            "Successfully installed findspark-2.0.1\n",
            "Collecting pyspark\n",
            "  Downloading pyspark-3.5.1.tar.gz (317.0 MB)\n",
            "\u001b[2K     \u001b[90m━━━━━━━━━━━━━━━━━━━━━━━━━━━━━━━━━━━━━━━━\u001b[0m \u001b[32m317.0/317.0 MB\u001b[0m \u001b[31m888.1 kB/s\u001b[0m eta \u001b[36m0:00:00\u001b[0m\n",
            "\u001b[?25h  Preparing metadata (setup.py) ... \u001b[?25l\u001b[?25hdone\n",
            "Requirement already satisfied: py4j==0.10.9.7 in /usr/local/lib/python3.10/dist-packages (from pyspark) (0.10.9.7)\n",
            "Building wheels for collected packages: pyspark\n",
            "  Building wheel for pyspark (setup.py) ... \u001b[?25l\u001b[?25hdone\n",
            "  Created wheel for pyspark: filename=pyspark-3.5.1-py2.py3-none-any.whl size=317488491 sha256=db3163335d67e848b3ff6e7646cbfeb0665c8e0bfabe0849abd282c7fa864398\n",
            "  Stored in directory: /root/.cache/pip/wheels/80/1d/60/2c256ed38dddce2fdd93be545214a63e02fbd8d74fb0b7f3a6\n",
            "Successfully built pyspark\n",
            "Installing collected packages: pyspark\n",
            "Successfully installed pyspark-3.5.1\n"
          ]
        }
      ]
    },
    {
      "cell_type": "code",
      "execution_count": null,
      "metadata": {
        "id": "lqAixv28gOYJ"
      },
      "outputs": [],
      "source": [
        "import findspark\n",
        "findspark.init()"
      ]
    },
    {
      "cell_type": "code",
      "execution_count": null,
      "metadata": {
        "id": "ed_VMcpFgOYJ"
      },
      "outputs": [],
      "source": [
        "from pyspark.sql import SparkSession"
      ]
    },
    {
      "cell_type": "markdown",
      "metadata": {
        "id": "lCUMR8pGgOYK"
      },
      "source": [
        "## SparkSession\n",
        "\n",
        "La *SparkSession*, introducida en la versión Spark 2.0, es un punto de entrada a las funcionalidades de Spark. El objeto SparkSession de spark está disponible de forma predeterminada en spark-shell, tecleando en un terminal de nuestro pc **pyspark**:\n",
        "\n",
        "```bash\n",
        "C:\\Users\\errodringer\\suscribete>pyspark\n",
        "```\n",
        "\n",
        "en la variable **spark**:\n",
        "\n",
        "![spark-shell](images/spark-shell.PNG \"Spark-Shell\")  \n",
        "\n",
        "Aunque *SparkContext* solía ser el punto de entrada antes de la versión 2.0 de Spark, no se reemplaza completamente con SparkSession, muchas características de SparkContext todavía están disponibles y se usan en Spark 2.0 y versiones posteriores. La SparkSession crea internamente SparkConfig y SparkContext con la configuración proporcionada."
      ]
    },
    {
      "cell_type": "markdown",
      "metadata": {
        "id": "qXCUdF7sgOYL"
      },
      "source": [
        "### 1. Crear la SparkSession"
      ]
    },
    {
      "cell_type": "code",
      "execution_count": null,
      "metadata": {
        "id": "9qQlMRf7gOYL"
      },
      "outputs": [],
      "source": [
        "spark = SparkSession.builder.appName('firstSession')\\\n",
        "    .config('spark.master', 'local[4]')\\\n",
        "    .config('spark.executor.memory', '1g')\\\n",
        "    .config(\"spark.sql.shuffle.partitions\", 1)\\\n",
        "    .config('spark.driver.memory','1g')\\\n",
        "    .getOrCreate()"
      ]
    },
    {
      "cell_type": "markdown",
      "metadata": {
        "id": "-pW5uDMMgOYL"
      },
      "source": [
        "Todas las condifuraciones disponibles en Spark:\n",
        "\n",
        "https://spark.apache.org/docs/latest/configuration.html"
      ]
    },
    {
      "cell_type": "code",
      "execution_count": null,
      "metadata": {
        "colab": {
          "base_uri": "https://localhost:8080/",
          "height": 221
        },
        "id": "RAEB360fgOYM",
        "outputId": "5df3de93-068e-49b3-d4c6-ea20b687edec"
      },
      "outputs": [
        {
          "output_type": "execute_result",
          "data": {
            "text/plain": [
              "<pyspark.sql.session.SparkSession at 0x7db67c0b2560>"
            ],
            "text/html": [
              "\n",
              "            <div>\n",
              "                <p><b>SparkSession - in-memory</b></p>\n",
              "                \n",
              "        <div>\n",
              "            <p><b>SparkContext</b></p>\n",
              "\n",
              "            <p><a href=\"http://5c74727dc060:4040\">Spark UI</a></p>\n",
              "\n",
              "            <dl>\n",
              "              <dt>Version</dt>\n",
              "                <dd><code>v3.5.1</code></dd>\n",
              "              <dt>Master</dt>\n",
              "                <dd><code>local[4]</code></dd>\n",
              "              <dt>AppName</dt>\n",
              "                <dd><code>firstSession</code></dd>\n",
              "            </dl>\n",
              "        </div>\n",
              "        \n",
              "            </div>\n",
              "        "
            ]
          },
          "metadata": {},
          "execution_count": 6
        }
      ],
      "source": [
        "spark"
      ]
    },
    {
      "cell_type": "markdown",
      "metadata": {
        "id": "gHSN02iHgOYN"
      },
      "source": [
        "Se puede obtener y cambiar la configuración inicial dada"
      ]
    },
    {
      "cell_type": "code",
      "execution_count": null,
      "metadata": {
        "colab": {
          "base_uri": "https://localhost:8080/",
          "height": 35
        },
        "id": "Ye8VGn_FgOYN",
        "outputId": "ee1a0496-e1e9-4d28-c199-953df8ea4914"
      },
      "outputs": [
        {
          "output_type": "execute_result",
          "data": {
            "text/plain": [
              "'1'"
            ],
            "application/vnd.google.colaboratory.intrinsic+json": {
              "type": "string"
            }
          },
          "metadata": {},
          "execution_count": 7
        }
      ],
      "source": [
        "spark.conf.get('spark.sql.shuffle.partitions')"
      ]
    },
    {
      "cell_type": "code",
      "execution_count": null,
      "metadata": {
        "id": "bP-bHm_JgOYO"
      },
      "outputs": [],
      "source": [
        "spark.conf.set(\"spark.sql.shuffle.partitions\", 2)"
      ]
    },
    {
      "cell_type": "code",
      "execution_count": null,
      "metadata": {
        "colab": {
          "base_uri": "https://localhost:8080/",
          "height": 35
        },
        "id": "ns3G8efKgOYO",
        "outputId": "fac28cc8-876d-4f83-fcaa-b514433e2c5f"
      },
      "outputs": [
        {
          "output_type": "execute_result",
          "data": {
            "text/plain": [
              "'2'"
            ],
            "application/vnd.google.colaboratory.intrinsic+json": {
              "type": "string"
            }
          },
          "metadata": {},
          "execution_count": 9
        }
      ],
      "source": [
        "spark.conf.get('spark.sql.shuffle.partitions')"
      ]
    },
    {
      "cell_type": "code",
      "execution_count": null,
      "metadata": {
        "colab": {
          "base_uri": "https://localhost:8080/"
        },
        "id": "dowPQcUOgOYO",
        "outputId": "81a437d8-c051-42b8-c886-a8846a905379"
      },
      "outputs": [
        {
          "output_type": "execute_result",
          "data": {
            "text/plain": [
              "[('spark.sql.shuffle.partitions', '1'),\n",
              " ('spark.driver.port', '42581'),\n",
              " ('spark.driver.extraJavaOptions',\n",
              "  '-Djava.net.preferIPv6Addresses=false -XX:+IgnoreUnrecognizedVMOptions --add-opens=java.base/java.lang=ALL-UNNAMED --add-opens=java.base/java.lang.invoke=ALL-UNNAMED --add-opens=java.base/java.lang.reflect=ALL-UNNAMED --add-opens=java.base/java.io=ALL-UNNAMED --add-opens=java.base/java.net=ALL-UNNAMED --add-opens=java.base/java.nio=ALL-UNNAMED --add-opens=java.base/java.util=ALL-UNNAMED --add-opens=java.base/java.util.concurrent=ALL-UNNAMED --add-opens=java.base/java.util.concurrent.atomic=ALL-UNNAMED --add-opens=java.base/jdk.internal.ref=ALL-UNNAMED --add-opens=java.base/sun.nio.ch=ALL-UNNAMED --add-opens=java.base/sun.nio.cs=ALL-UNNAMED --add-opens=java.base/sun.security.action=ALL-UNNAMED --add-opens=java.base/sun.util.calendar=ALL-UNNAMED --add-opens=java.security.jgss/sun.security.krb5=ALL-UNNAMED -Djdk.reflect.useDirectMethodHandle=false'),\n",
              " ('spark.app.name', 'firstSession'),\n",
              " ('spark.driver.host', '5c74727dc060'),\n",
              " ('spark.master', 'local[4]'),\n",
              " ('spark.executor.id', 'driver'),\n",
              " ('spark.app.id', 'local-1710889781342'),\n",
              " ('spark.sql.warehouse.dir', 'file:/content/spark-warehouse'),\n",
              " ('spark.driver.memory', '1g'),\n",
              " ('spark.app.submitTime', '1710889779242'),\n",
              " ('spark.executor.memory', '1g'),\n",
              " ('spark.rdd.compress', 'True'),\n",
              " ('spark.executor.extraJavaOptions',\n",
              "  '-Djava.net.preferIPv6Addresses=false -XX:+IgnoreUnrecognizedVMOptions --add-opens=java.base/java.lang=ALL-UNNAMED --add-opens=java.base/java.lang.invoke=ALL-UNNAMED --add-opens=java.base/java.lang.reflect=ALL-UNNAMED --add-opens=java.base/java.io=ALL-UNNAMED --add-opens=java.base/java.net=ALL-UNNAMED --add-opens=java.base/java.nio=ALL-UNNAMED --add-opens=java.base/java.util=ALL-UNNAMED --add-opens=java.base/java.util.concurrent=ALL-UNNAMED --add-opens=java.base/java.util.concurrent.atomic=ALL-UNNAMED --add-opens=java.base/jdk.internal.ref=ALL-UNNAMED --add-opens=java.base/sun.nio.ch=ALL-UNNAMED --add-opens=java.base/sun.nio.cs=ALL-UNNAMED --add-opens=java.base/sun.security.action=ALL-UNNAMED --add-opens=java.base/sun.util.calendar=ALL-UNNAMED --add-opens=java.security.jgss/sun.security.krb5=ALL-UNNAMED -Djdk.reflect.useDirectMethodHandle=false'),\n",
              " ('spark.serializer.objectStreamReset', '100'),\n",
              " ('spark.app.startTime', '1710889779517'),\n",
              " ('spark.submit.pyFiles', ''),\n",
              " ('spark.submit.deployMode', 'client'),\n",
              " ('spark.ui.showConsoleProgress', 'true')]"
            ]
          },
          "metadata": {},
          "execution_count": 10
        }
      ],
      "source": [
        "spark.sparkContext.getConf().getAll()"
      ]
    },
    {
      "cell_type": "markdown",
      "metadata": {
        "id": "IhpXGWuOgOYP"
      },
      "source": [
        "Con el comando:\n",
        "\n",
        "```python\n",
        "spark.stop()\n",
        "```\n",
        "\n",
        "detenemos la aplicación."
      ]
    },
    {
      "cell_type": "code",
      "execution_count": null,
      "metadata": {
        "id": "Qioj1d9JgOYP"
      },
      "outputs": [],
      "source": [
        "# spark.stop()"
      ]
    },
    {
      "cell_type": "markdown",
      "metadata": {
        "id": "LZWOwYutgOYP"
      },
      "source": [
        "### 2. Crear tabla"
      ]
    },
    {
      "cell_type": "markdown",
      "metadata": {
        "id": "N7IFnjiOgOYQ"
      },
      "source": [
        "### 2.1 A partir de una lista"
      ]
    },
    {
      "cell_type": "code",
      "execution_count": null,
      "metadata": {
        "colab": {
          "base_uri": "https://localhost:8080/"
        },
        "id": "M7KogTObgOYQ",
        "outputId": "9578d4c1-5f74-47c8-eb15-70701a92570a"
      },
      "outputs": [
        {
          "output_type": "execute_result",
          "data": {
            "text/plain": [
              "[(1, 'Errodringer', 'a'),\n",
              " (2, 'Paco', 'b'),\n",
              " (3, 'Hola', 'c'),\n",
              " (4, 'Adios', 'd')]"
            ]
          },
          "metadata": {},
          "execution_count": 12
        }
      ],
      "source": [
        "columnas = [\"id\", \"nombre\", \"l\"]\n",
        "lista = [(1, \"Errodringer\", \"a\"), (2, \"Paco\", \"b\"), (3, \"Hola\", \"c\"), (4, \"Adios\", \"d\")]\n",
        "lista"
      ]
    },
    {
      "cell_type": "code",
      "execution_count": null,
      "metadata": {
        "id": "EQUxZ9hpgOYQ"
      },
      "outputs": [],
      "source": [
        "df_1 = spark.createDataFrame(lista, schema=columnas)"
      ]
    },
    {
      "cell_type": "markdown",
      "metadata": {
        "id": "1C_LBnQegOYQ"
      },
      "source": [
        "Número total de registros (filas)"
      ]
    },
    {
      "cell_type": "code",
      "execution_count": null,
      "metadata": {
        "colab": {
          "base_uri": "https://localhost:8080/"
        },
        "id": "n-nAcUxOgOYR",
        "outputId": "8bf30f6a-6943-4239-f095-b2b41721baf6"
      },
      "outputs": [
        {
          "output_type": "execute_result",
          "data": {
            "text/plain": [
              "4"
            ]
          },
          "metadata": {},
          "execution_count": 14
        }
      ],
      "source": [
        "df_1.count()"
      ]
    },
    {
      "cell_type": "markdown",
      "metadata": {
        "id": "D1-LpP1BgOYR"
      },
      "source": [
        "Mostramos *n* registros, indicando este parámetro como entrada en la función:\n",
        "\n",
        "```\n",
        "show(n)\n",
        "```"
      ]
    },
    {
      "cell_type": "code",
      "execution_count": null,
      "metadata": {
        "colab": {
          "base_uri": "https://localhost:8080/"
        },
        "id": "bo650HzsgOYR",
        "outputId": "83b7d187-6a5d-4d53-975c-b03f17fa22f6"
      },
      "outputs": [
        {
          "output_type": "stream",
          "name": "stdout",
          "text": [
            "+---+-----------+---+\n",
            "| id|     nombre|  l|\n",
            "+---+-----------+---+\n",
            "|  1|Errodringer|  a|\n",
            "|  2|       Paco|  b|\n",
            "+---+-----------+---+\n",
            "only showing top 2 rows\n",
            "\n"
          ]
        }
      ],
      "source": [
        "df_1.show(2)"
      ]
    },
    {
      "cell_type": "markdown",
      "metadata": {
        "id": "GmJI400HgOYS"
      },
      "source": [
        "Columnas del DataFrame"
      ]
    },
    {
      "cell_type": "code",
      "execution_count": null,
      "metadata": {
        "colab": {
          "base_uri": "https://localhost:8080/"
        },
        "id": "MkSzk5JhgOYS",
        "outputId": "0f7e70a9-83d1-4f22-9445-4a67482fc6fb"
      },
      "outputs": [
        {
          "output_type": "execute_result",
          "data": {
            "text/plain": [
              "['id', 'nombre', 'l']"
            ]
          },
          "metadata": {},
          "execution_count": 16
        }
      ],
      "source": [
        "df_1.columns"
      ]
    },
    {
      "cell_type": "markdown",
      "metadata": {
        "id": "leurp_WxgOYS"
      },
      "source": [
        "Schema del DataFrame"
      ]
    },
    {
      "cell_type": "code",
      "execution_count": null,
      "metadata": {
        "colab": {
          "base_uri": "https://localhost:8080/"
        },
        "id": "9uiDML_RgOYT",
        "outputId": "3386e485-a35e-4b89-b1de-6834a4875488"
      },
      "outputs": [
        {
          "output_type": "stream",
          "name": "stdout",
          "text": [
            "root\n",
            " |-- id: long (nullable = true)\n",
            " |-- nombre: string (nullable = true)\n",
            " |-- l: string (nullable = true)\n",
            "\n"
          ]
        }
      ],
      "source": [
        "df_1.printSchema()"
      ]
    },
    {
      "cell_type": "markdown",
      "metadata": {
        "id": "A6Wvi_OngOYT"
      },
      "source": [
        "Resumen del DF"
      ]
    },
    {
      "cell_type": "code",
      "execution_count": null,
      "metadata": {
        "colab": {
          "base_uri": "https://localhost:8080/"
        },
        "id": "u5UH7R9NgOYT",
        "outputId": "2cfa6ae2-ffe3-4392-fffd-e5d707f2c705"
      },
      "outputs": [
        {
          "output_type": "stream",
          "name": "stdout",
          "text": [
            "+-------+------------------+------+----+\n",
            "|summary|                id|nombre|   l|\n",
            "+-------+------------------+------+----+\n",
            "|  count|                 4|     4|   4|\n",
            "|   mean|               2.5|  NULL|NULL|\n",
            "| stddev|1.2909944487358056|  NULL|NULL|\n",
            "|    min|                 1| Adios|   a|\n",
            "|    max|                 4|  Paco|   d|\n",
            "+-------+------------------+------+----+\n",
            "\n"
          ]
        }
      ],
      "source": [
        "df_1.describe().show()"
      ]
    },
    {
      "cell_type": "code",
      "execution_count": null,
      "metadata": {
        "id": "d4PzluTRgOYU"
      },
      "outputs": [],
      "source": [
        "from pyspark.sql.types import StructType, StructField, IntegerType, StringType\n",
        "\n",
        "schema_1 = StructType([\n",
        "    StructField(\"id\", IntegerType(), True),\n",
        "    StructField(\"name\", StringType(), True),\n",
        "    StructField(\"l\", StringType(), True)])\n",
        "\n",
        "df_11 = spark.createDataFrame(lista, schema=schema_1)"
      ]
    },
    {
      "cell_type": "code",
      "execution_count": null,
      "metadata": {
        "colab": {
          "base_uri": "https://localhost:8080/"
        },
        "id": "V8nR40NpgOYV",
        "outputId": "57361150-8853-4b47-f492-04dd356494ba"
      },
      "outputs": [
        {
          "output_type": "stream",
          "name": "stdout",
          "text": [
            "root\n",
            " |-- id: integer (nullable = true)\n",
            " |-- name: string (nullable = true)\n",
            " |-- l: string (nullable = true)\n",
            "\n"
          ]
        }
      ],
      "source": [
        "df_11.printSchema()"
      ]
    },
    {
      "cell_type": "code",
      "execution_count": null,
      "metadata": {
        "scrolled": true,
        "colab": {
          "base_uri": "https://localhost:8080/"
        },
        "id": "BhxDevNkgOYW",
        "outputId": "c0404e7e-9952-4686-e8cc-5ee2e3426609"
      },
      "outputs": [
        {
          "output_type": "stream",
          "name": "stdout",
          "text": [
            "+---+-----------+---+\n",
            "| id|       name|  l|\n",
            "+---+-----------+---+\n",
            "|  1|Errodringer|  a|\n",
            "|  2|       Paco|  b|\n",
            "|  3|       Hola|  c|\n",
            "|  4|      Adios|  d|\n",
            "+---+-----------+---+\n",
            "\n"
          ]
        }
      ],
      "source": [
        "df_11.show()"
      ]
    },
    {
      "cell_type": "markdown",
      "metadata": {
        "id": "wE6cg0d2gOYX"
      },
      "source": [
        "### 2.2 A partir de un csv"
      ]
    },
    {
      "cell_type": "code",
      "source": [
        "from google.colab import drive\n",
        "drive.mount('/content/drive')"
      ],
      "metadata": {
        "colab": {
          "base_uri": "https://localhost:8080/"
        },
        "id": "9uGJtXjyiJxu",
        "outputId": "29602840-7cd0-41f8-9613-367d727cebcd"
      },
      "execution_count": null,
      "outputs": [
        {
          "output_type": "stream",
          "name": "stdout",
          "text": [
            "Mounted at /content/drive\n"
          ]
        }
      ]
    },
    {
      "cell_type": "code",
      "execution_count": null,
      "metadata": {
        "id": "VCQtddKvgOYX"
      },
      "outputs": [],
      "source": [
        "df = spark.read.csv('/content/drive/MyDrive/Infraestructura BigData/Tecmilenio.csv', sep=',', header=True)"
      ]
    },
    {
      "cell_type": "code",
      "execution_count": null,
      "metadata": {
        "scrolled": true,
        "id": "ikAkmdNSgOYX",
        "colab": {
          "base_uri": "https://localhost:8080/"
        },
        "outputId": "6eecbf1e-d3dc-4cc2-b804-809c41cd6b67"
      },
      "outputs": [
        {
          "output_type": "stream",
          "name": "stdout",
          "text": [
            "+---+-------+--------+----------+------------+\n",
            "| id| nombre|apellido| matricula|calificacion|\n",
            "+---+-------+--------+----------+------------+\n",
            "|  1|   John|     Doe|AL02883894|         100|\n",
            "|  2|  Alice|   Smith|AL02883895|          80|\n",
            "|  3|Michael| Johnson|AL02883896|          85|\n",
            "|  4|  Emily|   Brown|AL02883897|          70|\n",
            "|  5|  David|   Davis|AL02883898|          90|\n",
            "+---+-------+--------+----------+------------+\n",
            "only showing top 5 rows\n",
            "\n"
          ]
        }
      ],
      "source": [
        "df.show(5)"
      ]
    },
    {
      "cell_type": "code",
      "execution_count": null,
      "metadata": {
        "scrolled": true,
        "id": "khNCI9jKgOYX",
        "colab": {
          "base_uri": "https://localhost:8080/"
        },
        "outputId": "6d05a92e-2727-45b1-d4db-2e9837a80714"
      },
      "outputs": [
        {
          "output_type": "stream",
          "name": "stdout",
          "text": [
            "+---+-------+--------+----------+------------+\n",
            "|id |nombre |apellido|matricula |calificacion|\n",
            "+---+-------+--------+----------+------------+\n",
            "|1  |John   |Doe     |AL02883894|100         |\n",
            "|2  |Alice  |Smith   |AL02883895|80          |\n",
            "|3  |Michael|Johnson |AL02883896|85          |\n",
            "|4  |Emily  |Brown   |AL02883897|70          |\n",
            "|5  |David  |Davis   |AL02883898|90          |\n",
            "+---+-------+--------+----------+------------+\n",
            "only showing top 5 rows\n",
            "\n"
          ]
        }
      ],
      "source": [
        "df.show(5, truncate=False)"
      ]
    },
    {
      "cell_type": "code",
      "execution_count": null,
      "metadata": {
        "scrolled": true,
        "id": "6akdlXjggOYY",
        "colab": {
          "base_uri": "https://localhost:8080/"
        },
        "outputId": "37794f99-8b47-46cc-e22a-c1893d73c332"
      },
      "outputs": [
        {
          "output_type": "stream",
          "name": "stdout",
          "text": [
            "root\n",
            " |-- id: string (nullable = true)\n",
            " |-- nombre: string (nullable = true)\n",
            " |-- apellido: string (nullable = true)\n",
            " |-- matricula: string (nullable = true)\n",
            " |-- calificacion: string (nullable = true)\n",
            "\n"
          ]
        }
      ],
      "source": [
        "df.printSchema()"
      ]
    },
    {
      "cell_type": "code",
      "execution_count": null,
      "metadata": {
        "id": "9dn0kMFGgOYY",
        "colab": {
          "base_uri": "https://localhost:8080/"
        },
        "outputId": "06e92033-57d6-4839-88fb-930b901f78df"
      },
      "outputs": [
        {
          "output_type": "execute_result",
          "data": {
            "text/plain": [
              "10"
            ]
          },
          "metadata": {},
          "execution_count": 27
        }
      ],
      "source": [
        "df.count()"
      ]
    },
    {
      "cell_type": "markdown",
      "metadata": {
        "id": "TSbA8NXPgOYY"
      },
      "source": [
        "Escritura de un DataFrame. En este caso a ficheros tipo *parquet*, un formato de fichero optimizado para trabajar en entornos big data con grandes volumenes de datos."
      ]
    },
    {
      "cell_type": "code",
      "execution_count": null,
      "metadata": {
        "id": "F3akgNTOgOYY"
      },
      "outputs": [],
      "source": [
        "df.write.parquet(\"parquet_example\", mode='overwrite')"
      ]
    },
    {
      "cell_type": "markdown",
      "metadata": {
        "id": "gtSqKiRCgOYZ"
      },
      "source": [
        "Se ha escrito en un único fichero porque el dataframe lo tenemos en una sola partición."
      ]
    },
    {
      "cell_type": "markdown",
      "metadata": {
        "id": "v0iqa1ftgOYZ"
      },
      "source": [
        "### 2.3 A partir de un parquet"
      ]
    },
    {
      "cell_type": "code",
      "execution_count": null,
      "metadata": {
        "id": "WvrKe69ZgOYZ"
      },
      "outputs": [],
      "source": [
        "df_p = spark.read.parquet('parquet_example')"
      ]
    },
    {
      "cell_type": "code",
      "execution_count": null,
      "metadata": {
        "id": "-Bhk7gQRgOYZ",
        "colab": {
          "base_uri": "https://localhost:8080/"
        },
        "outputId": "e7081ec7-122e-419d-b16a-cca95c88cffd"
      },
      "outputs": [
        {
          "output_type": "execute_result",
          "data": {
            "text/plain": [
              "10"
            ]
          },
          "metadata": {},
          "execution_count": 30
        }
      ],
      "source": [
        "df_p.count()"
      ]
    },
    {
      "cell_type": "code",
      "execution_count": null,
      "metadata": {
        "id": "X3VIT2NygOYZ",
        "colab": {
          "base_uri": "https://localhost:8080/"
        },
        "outputId": "d38aa2f6-ed4f-4a27-83f6-1180a7f6a009"
      },
      "outputs": [
        {
          "output_type": "stream",
          "name": "stdout",
          "text": [
            "+---+------+--------+----------+------------+\n",
            "| id|nombre|apellido| matricula|calificacion|\n",
            "+---+------+--------+----------+------------+\n",
            "|  1|  John|     Doe|AL02883894|         100|\n",
            "|  2| Alice|   Smith|AL02883895|          80|\n",
            "+---+------+--------+----------+------------+\n",
            "only showing top 2 rows\n",
            "\n"
          ]
        }
      ],
      "source": [
        "df_p.show(2)"
      ]
    },
    {
      "cell_type": "code",
      "execution_count": null,
      "metadata": {
        "id": "vLYJlrvGgOYa",
        "colab": {
          "base_uri": "https://localhost:8080/"
        },
        "outputId": "3b70630f-605d-476b-95df-26c09b5b0046"
      },
      "outputs": [
        {
          "output_type": "stream",
          "name": "stdout",
          "text": [
            "+-------+------------------+------+--------+----------+---------------+\n",
            "|summary|                id|nombre|apellido| matricula|   calificacion|\n",
            "+-------+------------------+------+--------+----------+---------------+\n",
            "|  count|                10|    10|      10|        10|             10|\n",
            "|   mean|               5.5|  NULL|    NULL|      NULL|           87.3|\n",
            "| stddev|3.0276503540974917|  NULL|    NULL|      NULL|8.9820809269221|\n",
            "|    min|                 1| Alice|Anderson|AL02883881|            100|\n",
            "|    max|                 9| Sarah|  Wilson|AL02883899|             97|\n",
            "+-------+------------------+------+--------+----------+---------------+\n",
            "\n"
          ]
        }
      ],
      "source": [
        "df_p.describe().show()"
      ]
    },
    {
      "cell_type": "code",
      "execution_count": null,
      "metadata": {
        "id": "K67X0HmbgOYa"
      },
      "outputs": [],
      "source": [
        "df_pandas = df_p.toPandas()"
      ]
    },
    {
      "cell_type": "code",
      "execution_count": null,
      "metadata": {
        "scrolled": true,
        "id": "BTS6y9WBgOYa",
        "colab": {
          "base_uri": "https://localhost:8080/",
          "height": 206
        },
        "outputId": "465f5a60-bd56-4d9c-ff61-ea4813885088"
      },
      "outputs": [
        {
          "output_type": "execute_result",
          "data": {
            "text/plain": [
              "  id   nombre apellido   matricula calificacion\n",
              "0  1     John      Doe  AL02883894          100\n",
              "1  2    Alice    Smith  AL02883895           80\n",
              "2  3  Michael  Johnson  AL02883896           85\n",
              "3  4    Emily    Brown  AL02883897           70\n",
              "4  5    David    Davis  AL02883898           90"
            ],
            "text/html": [
              "\n",
              "  <div id=\"df-5dc8abdd-6e89-42ed-b8bd-45a4e3b19f92\" class=\"colab-df-container\">\n",
              "    <div>\n",
              "<style scoped>\n",
              "    .dataframe tbody tr th:only-of-type {\n",
              "        vertical-align: middle;\n",
              "    }\n",
              "\n",
              "    .dataframe tbody tr th {\n",
              "        vertical-align: top;\n",
              "    }\n",
              "\n",
              "    .dataframe thead th {\n",
              "        text-align: right;\n",
              "    }\n",
              "</style>\n",
              "<table border=\"1\" class=\"dataframe\">\n",
              "  <thead>\n",
              "    <tr style=\"text-align: right;\">\n",
              "      <th></th>\n",
              "      <th>id</th>\n",
              "      <th>nombre</th>\n",
              "      <th>apellido</th>\n",
              "      <th>matricula</th>\n",
              "      <th>calificacion</th>\n",
              "    </tr>\n",
              "  </thead>\n",
              "  <tbody>\n",
              "    <tr>\n",
              "      <th>0</th>\n",
              "      <td>1</td>\n",
              "      <td>John</td>\n",
              "      <td>Doe</td>\n",
              "      <td>AL02883894</td>\n",
              "      <td>100</td>\n",
              "    </tr>\n",
              "    <tr>\n",
              "      <th>1</th>\n",
              "      <td>2</td>\n",
              "      <td>Alice</td>\n",
              "      <td>Smith</td>\n",
              "      <td>AL02883895</td>\n",
              "      <td>80</td>\n",
              "    </tr>\n",
              "    <tr>\n",
              "      <th>2</th>\n",
              "      <td>3</td>\n",
              "      <td>Michael</td>\n",
              "      <td>Johnson</td>\n",
              "      <td>AL02883896</td>\n",
              "      <td>85</td>\n",
              "    </tr>\n",
              "    <tr>\n",
              "      <th>3</th>\n",
              "      <td>4</td>\n",
              "      <td>Emily</td>\n",
              "      <td>Brown</td>\n",
              "      <td>AL02883897</td>\n",
              "      <td>70</td>\n",
              "    </tr>\n",
              "    <tr>\n",
              "      <th>4</th>\n",
              "      <td>5</td>\n",
              "      <td>David</td>\n",
              "      <td>Davis</td>\n",
              "      <td>AL02883898</td>\n",
              "      <td>90</td>\n",
              "    </tr>\n",
              "  </tbody>\n",
              "</table>\n",
              "</div>\n",
              "    <div class=\"colab-df-buttons\">\n",
              "\n",
              "  <div class=\"colab-df-container\">\n",
              "    <button class=\"colab-df-convert\" onclick=\"convertToInteractive('df-5dc8abdd-6e89-42ed-b8bd-45a4e3b19f92')\"\n",
              "            title=\"Convert this dataframe to an interactive table.\"\n",
              "            style=\"display:none;\">\n",
              "\n",
              "  <svg xmlns=\"http://www.w3.org/2000/svg\" height=\"24px\" viewBox=\"0 -960 960 960\">\n",
              "    <path d=\"M120-120v-720h720v720H120Zm60-500h600v-160H180v160Zm220 220h160v-160H400v160Zm0 220h160v-160H400v160ZM180-400h160v-160H180v160Zm440 0h160v-160H620v160ZM180-180h160v-160H180v160Zm440 0h160v-160H620v160Z\"/>\n",
              "  </svg>\n",
              "    </button>\n",
              "\n",
              "  <style>\n",
              "    .colab-df-container {\n",
              "      display:flex;\n",
              "      gap: 12px;\n",
              "    }\n",
              "\n",
              "    .colab-df-convert {\n",
              "      background-color: #E8F0FE;\n",
              "      border: none;\n",
              "      border-radius: 50%;\n",
              "      cursor: pointer;\n",
              "      display: none;\n",
              "      fill: #1967D2;\n",
              "      height: 32px;\n",
              "      padding: 0 0 0 0;\n",
              "      width: 32px;\n",
              "    }\n",
              "\n",
              "    .colab-df-convert:hover {\n",
              "      background-color: #E2EBFA;\n",
              "      box-shadow: 0px 1px 2px rgba(60, 64, 67, 0.3), 0px 1px 3px 1px rgba(60, 64, 67, 0.15);\n",
              "      fill: #174EA6;\n",
              "    }\n",
              "\n",
              "    .colab-df-buttons div {\n",
              "      margin-bottom: 4px;\n",
              "    }\n",
              "\n",
              "    [theme=dark] .colab-df-convert {\n",
              "      background-color: #3B4455;\n",
              "      fill: #D2E3FC;\n",
              "    }\n",
              "\n",
              "    [theme=dark] .colab-df-convert:hover {\n",
              "      background-color: #434B5C;\n",
              "      box-shadow: 0px 1px 3px 1px rgba(0, 0, 0, 0.15);\n",
              "      filter: drop-shadow(0px 1px 2px rgba(0, 0, 0, 0.3));\n",
              "      fill: #FFFFFF;\n",
              "    }\n",
              "  </style>\n",
              "\n",
              "    <script>\n",
              "      const buttonEl =\n",
              "        document.querySelector('#df-5dc8abdd-6e89-42ed-b8bd-45a4e3b19f92 button.colab-df-convert');\n",
              "      buttonEl.style.display =\n",
              "        google.colab.kernel.accessAllowed ? 'block' : 'none';\n",
              "\n",
              "      async function convertToInteractive(key) {\n",
              "        const element = document.querySelector('#df-5dc8abdd-6e89-42ed-b8bd-45a4e3b19f92');\n",
              "        const dataTable =\n",
              "          await google.colab.kernel.invokeFunction('convertToInteractive',\n",
              "                                                    [key], {});\n",
              "        if (!dataTable) return;\n",
              "\n",
              "        const docLinkHtml = 'Like what you see? Visit the ' +\n",
              "          '<a target=\"_blank\" href=https://colab.research.google.com/notebooks/data_table.ipynb>data table notebook</a>'\n",
              "          + ' to learn more about interactive tables.';\n",
              "        element.innerHTML = '';\n",
              "        dataTable['output_type'] = 'display_data';\n",
              "        await google.colab.output.renderOutput(dataTable, element);\n",
              "        const docLink = document.createElement('div');\n",
              "        docLink.innerHTML = docLinkHtml;\n",
              "        element.appendChild(docLink);\n",
              "      }\n",
              "    </script>\n",
              "  </div>\n",
              "\n",
              "\n",
              "<div id=\"df-a19e586b-f77f-411b-a74d-0345946d0d00\">\n",
              "  <button class=\"colab-df-quickchart\" onclick=\"quickchart('df-a19e586b-f77f-411b-a74d-0345946d0d00')\"\n",
              "            title=\"Suggest charts\"\n",
              "            style=\"display:none;\">\n",
              "\n",
              "<svg xmlns=\"http://www.w3.org/2000/svg\" height=\"24px\"viewBox=\"0 0 24 24\"\n",
              "     width=\"24px\">\n",
              "    <g>\n",
              "        <path d=\"M19 3H5c-1.1 0-2 .9-2 2v14c0 1.1.9 2 2 2h14c1.1 0 2-.9 2-2V5c0-1.1-.9-2-2-2zM9 17H7v-7h2v7zm4 0h-2V7h2v10zm4 0h-2v-4h2v4z\"/>\n",
              "    </g>\n",
              "</svg>\n",
              "  </button>\n",
              "\n",
              "<style>\n",
              "  .colab-df-quickchart {\n",
              "      --bg-color: #E8F0FE;\n",
              "      --fill-color: #1967D2;\n",
              "      --hover-bg-color: #E2EBFA;\n",
              "      --hover-fill-color: #174EA6;\n",
              "      --disabled-fill-color: #AAA;\n",
              "      --disabled-bg-color: #DDD;\n",
              "  }\n",
              "\n",
              "  [theme=dark] .colab-df-quickchart {\n",
              "      --bg-color: #3B4455;\n",
              "      --fill-color: #D2E3FC;\n",
              "      --hover-bg-color: #434B5C;\n",
              "      --hover-fill-color: #FFFFFF;\n",
              "      --disabled-bg-color: #3B4455;\n",
              "      --disabled-fill-color: #666;\n",
              "  }\n",
              "\n",
              "  .colab-df-quickchart {\n",
              "    background-color: var(--bg-color);\n",
              "    border: none;\n",
              "    border-radius: 50%;\n",
              "    cursor: pointer;\n",
              "    display: none;\n",
              "    fill: var(--fill-color);\n",
              "    height: 32px;\n",
              "    padding: 0;\n",
              "    width: 32px;\n",
              "  }\n",
              "\n",
              "  .colab-df-quickchart:hover {\n",
              "    background-color: var(--hover-bg-color);\n",
              "    box-shadow: 0 1px 2px rgba(60, 64, 67, 0.3), 0 1px 3px 1px rgba(60, 64, 67, 0.15);\n",
              "    fill: var(--button-hover-fill-color);\n",
              "  }\n",
              "\n",
              "  .colab-df-quickchart-complete:disabled,\n",
              "  .colab-df-quickchart-complete:disabled:hover {\n",
              "    background-color: var(--disabled-bg-color);\n",
              "    fill: var(--disabled-fill-color);\n",
              "    box-shadow: none;\n",
              "  }\n",
              "\n",
              "  .colab-df-spinner {\n",
              "    border: 2px solid var(--fill-color);\n",
              "    border-color: transparent;\n",
              "    border-bottom-color: var(--fill-color);\n",
              "    animation:\n",
              "      spin 1s steps(1) infinite;\n",
              "  }\n",
              "\n",
              "  @keyframes spin {\n",
              "    0% {\n",
              "      border-color: transparent;\n",
              "      border-bottom-color: var(--fill-color);\n",
              "      border-left-color: var(--fill-color);\n",
              "    }\n",
              "    20% {\n",
              "      border-color: transparent;\n",
              "      border-left-color: var(--fill-color);\n",
              "      border-top-color: var(--fill-color);\n",
              "    }\n",
              "    30% {\n",
              "      border-color: transparent;\n",
              "      border-left-color: var(--fill-color);\n",
              "      border-top-color: var(--fill-color);\n",
              "      border-right-color: var(--fill-color);\n",
              "    }\n",
              "    40% {\n",
              "      border-color: transparent;\n",
              "      border-right-color: var(--fill-color);\n",
              "      border-top-color: var(--fill-color);\n",
              "    }\n",
              "    60% {\n",
              "      border-color: transparent;\n",
              "      border-right-color: var(--fill-color);\n",
              "    }\n",
              "    80% {\n",
              "      border-color: transparent;\n",
              "      border-right-color: var(--fill-color);\n",
              "      border-bottom-color: var(--fill-color);\n",
              "    }\n",
              "    90% {\n",
              "      border-color: transparent;\n",
              "      border-bottom-color: var(--fill-color);\n",
              "    }\n",
              "  }\n",
              "</style>\n",
              "\n",
              "  <script>\n",
              "    async function quickchart(key) {\n",
              "      const quickchartButtonEl =\n",
              "        document.querySelector('#' + key + ' button');\n",
              "      quickchartButtonEl.disabled = true;  // To prevent multiple clicks.\n",
              "      quickchartButtonEl.classList.add('colab-df-spinner');\n",
              "      try {\n",
              "        const charts = await google.colab.kernel.invokeFunction(\n",
              "            'suggestCharts', [key], {});\n",
              "      } catch (error) {\n",
              "        console.error('Error during call to suggestCharts:', error);\n",
              "      }\n",
              "      quickchartButtonEl.classList.remove('colab-df-spinner');\n",
              "      quickchartButtonEl.classList.add('colab-df-quickchart-complete');\n",
              "    }\n",
              "    (() => {\n",
              "      let quickchartButtonEl =\n",
              "        document.querySelector('#df-a19e586b-f77f-411b-a74d-0345946d0d00 button');\n",
              "      quickchartButtonEl.style.display =\n",
              "        google.colab.kernel.accessAllowed ? 'block' : 'none';\n",
              "    })();\n",
              "  </script>\n",
              "</div>\n",
              "\n",
              "    </div>\n",
              "  </div>\n"
            ],
            "application/vnd.google.colaboratory.intrinsic+json": {
              "type": "dataframe",
              "variable_name": "df_pandas",
              "summary": "{\n  \"name\": \"df_pandas\",\n  \"rows\": 10,\n  \"fields\": [\n    {\n      \"column\": \"id\",\n      \"properties\": {\n        \"dtype\": \"string\",\n        \"num_unique_values\": 10,\n        \"samples\": [\n          \"9\",\n          \"2\",\n          \"6\"\n        ],\n        \"semantic_type\": \"\",\n        \"description\": \"\"\n      }\n    },\n    {\n      \"column\": \"nombre\",\n      \"properties\": {\n        \"dtype\": \"string\",\n        \"num_unique_values\": 10,\n        \"samples\": [\n          \"Matthew\",\n          \"Alice\",\n          \"Sarah\"\n        ],\n        \"semantic_type\": \"\",\n        \"description\": \"\"\n      }\n    },\n    {\n      \"column\": \"apellido\",\n      \"properties\": {\n        \"dtype\": \"string\",\n        \"num_unique_values\": 10,\n        \"samples\": [\n          \"Anderson\",\n          \"Smith\",\n          \"Wilson\"\n        ],\n        \"semantic_type\": \"\",\n        \"description\": \"\"\n      }\n    },\n    {\n      \"column\": \"matricula\",\n      \"properties\": {\n        \"dtype\": \"string\",\n        \"num_unique_values\": 10,\n        \"samples\": [\n          \"AL02883893\",\n          \"AL02883895\",\n          \"AL02883899\"\n        ],\n        \"semantic_type\": \"\",\n        \"description\": \"\"\n      }\n    },\n    {\n      \"column\": \"calificacion\",\n      \"properties\": {\n        \"dtype\": \"string\",\n        \"num_unique_values\": 9,\n        \"samples\": [\n          \"82\",\n          \"80\",\n          \"95\"\n        ],\n        \"semantic_type\": \"\",\n        \"description\": \"\"\n      }\n    }\n  ]\n}"
            }
          },
          "metadata": {},
          "execution_count": 34
        }
      ],
      "source": [
        "df_pandas.head()"
      ]
    },
    {
      "cell_type": "code",
      "execution_count": null,
      "metadata": {
        "id": "EuzgIQqBgOYa"
      },
      "outputs": [],
      "source": [
        "# spark.stop()"
      ]
    },
    {
      "cell_type": "code",
      "execution_count": null,
      "metadata": {
        "id": "anaaSl4fgOYb"
      },
      "outputs": [],
      "source": []
    },
    {
      "cell_type": "markdown",
      "metadata": {
        "id": "TbAfFDjgKIcG"
      },
      "source": [
        "# Curso Big Data #3 - Transformaciones en columnas en PySpark"
      ]
    },
    {
      "cell_type": "code",
      "execution_count": null,
      "metadata": {
        "id": "GtlKKcjmKIcI"
      },
      "outputs": [],
      "source": [
        "import findspark\n",
        "findspark.init()"
      ]
    },
    {
      "cell_type": "code",
      "execution_count": null,
      "metadata": {
        "id": "iCegqIIQKIcJ"
      },
      "outputs": [],
      "source": [
        "from pyspark.sql import SparkSession"
      ]
    },
    {
      "cell_type": "markdown",
      "metadata": {
        "id": "NdH8D5CtKIcK"
      },
      "source": [
        "### 1. Crear la SparkSession"
      ]
    },
    {
      "cell_type": "code",
      "execution_count": null,
      "metadata": {
        "id": "G2NOE-J9KIcL"
      },
      "outputs": [],
      "source": [
        "spark = SparkSession.builder.appName('columnsTransform').getOrCreate()"
      ]
    },
    {
      "cell_type": "markdown",
      "metadata": {
        "id": "r4YZVT7HKIcM"
      },
      "source": [
        "### 2. Lectura parquet"
      ]
    },
    {
      "cell_type": "code",
      "execution_count": null,
      "metadata": {
        "id": "hKj2cZ0wKIcN"
      },
      "outputs": [],
      "source": [
        "df = spark.read.parquet('parquet_example')"
      ]
    },
    {
      "cell_type": "code",
      "execution_count": null,
      "metadata": {
        "id": "cPVx6Ml4KIcN"
      },
      "outputs": [],
      "source": [
        "df.show(2)"
      ]
    },
    {
      "cell_type": "code",
      "execution_count": null,
      "metadata": {
        "scrolled": false,
        "id": "TRiBEzkaKIcO"
      },
      "outputs": [],
      "source": [
        "df.printSchema()"
      ]
    },
    {
      "cell_type": "markdown",
      "metadata": {
        "id": "zqfHeONFKIcP"
      },
      "source": [
        "### 3. Operaciones simples sobre columnas"
      ]
    },
    {
      "cell_type": "markdown",
      "metadata": {
        "id": "zghRhklKKIcP"
      },
      "source": [
        "#### 3.1 Selección de columnas"
      ]
    },
    {
      "cell_type": "code",
      "execution_count": null,
      "metadata": {
        "id": "-7Znu_IxKIcP"
      },
      "outputs": [],
      "source": [
        "sel_cols = ['Series_title_1', 'Series_title_2', 'Series_title_3', 'Series_title_4', 'Series_title_5']\n",
        "df_sel = df.select(sel_cols)"
      ]
    },
    {
      "cell_type": "code",
      "execution_count": null,
      "metadata": {
        "id": "dzC3TUk3KIcQ"
      },
      "outputs": [],
      "source": [
        "df_sel.show(5)"
      ]
    },
    {
      "cell_type": "markdown",
      "metadata": {
        "id": "36-GU45GKIcQ"
      },
      "source": [
        "Otro método"
      ]
    },
    {
      "cell_type": "code",
      "execution_count": null,
      "metadata": {
        "scrolled": true,
        "id": "RGb76lupKIcQ"
      },
      "outputs": [],
      "source": [
        "df[sel_cols].show(5)"
      ]
    },
    {
      "cell_type": "markdown",
      "metadata": {
        "id": "pIQ__Y93KIcR"
      },
      "source": [
        "#### 3.2 Renombrar una columna"
      ]
    },
    {
      "cell_type": "code",
      "execution_count": null,
      "metadata": {
        "id": "w1pzEd1bKIcR"
      },
      "outputs": [],
      "source": [
        "df_sel.withColumnRenamed('Series_title_1', 'ST_1').show(5)"
      ]
    },
    {
      "cell_type": "code",
      "execution_count": null,
      "metadata": {
        "id": "n0McHaR7KIcS"
      },
      "outputs": [],
      "source": [
        "df_sel.show(5)"
      ]
    },
    {
      "cell_type": "markdown",
      "metadata": {
        "id": "oeLHvfn3KIcS"
      },
      "source": [
        "#### 3.3 Ordenar DF"
      ]
    },
    {
      "cell_type": "markdown",
      "metadata": {
        "id": "OlYbbo5tKIcS"
      },
      "source": [
        "Ascendente"
      ]
    },
    {
      "cell_type": "code",
      "execution_count": null,
      "metadata": {
        "scrolled": true,
        "id": "5Cm49DbUKIcS"
      },
      "outputs": [],
      "source": [
        "df.sort('Data_value')[['Data_value']].show(10)"
      ]
    },
    {
      "cell_type": "markdown",
      "metadata": {
        "id": "8B6RO0YMKIcT"
      },
      "source": [
        "Descendente"
      ]
    },
    {
      "cell_type": "code",
      "execution_count": null,
      "metadata": {
        "id": "lKW0_aaKKIcT"
      },
      "outputs": [],
      "source": [
        "from pyspark.sql import functions as F"
      ]
    },
    {
      "cell_type": "code",
      "execution_count": null,
      "metadata": {
        "scrolled": true,
        "id": "UlVapxEmKIcT"
      },
      "outputs": [],
      "source": [
        "df.sort(F.desc(\"Data_value\"))[['Data_value']].show(10)"
      ]
    },
    {
      "cell_type": "markdown",
      "metadata": {
        "id": "jU74EOMuKIcU"
      },
      "source": [
        "#### 3.4 Cambiar el tipo de la columna"
      ]
    },
    {
      "cell_type": "code",
      "execution_count": null,
      "metadata": {
        "id": "UTBwFRr0KIcU"
      },
      "outputs": [],
      "source": [
        "from pyspark.sql.types import DoubleType, IntegerType, StringType"
      ]
    },
    {
      "cell_type": "markdown",
      "metadata": {
        "id": "RpiTXE_3KIcU"
      },
      "source": [
        "Creamos una nueva columna con el tipo nuevo"
      ]
    },
    {
      "cell_type": "code",
      "execution_count": null,
      "metadata": {
        "id": "57L0Ox1EKIcU"
      },
      "outputs": [],
      "source": [
        "df = df.withColumn('Data_value_int', F.col('Data_value').cast(DoubleType()))"
      ]
    },
    {
      "cell_type": "code",
      "execution_count": null,
      "metadata": {
        "id": "c_xmcM8XKIcU"
      },
      "outputs": [],
      "source": [
        "df.show(5)"
      ]
    },
    {
      "cell_type": "code",
      "execution_count": null,
      "metadata": {
        "id": "Y75JW6T6KIcV"
      },
      "outputs": [],
      "source": [
        "df.printSchema()"
      ]
    },
    {
      "cell_type": "markdown",
      "metadata": {
        "id": "EIVTMb28KIcV"
      },
      "source": [
        "Ahora si podemos ordenar correctamente"
      ]
    },
    {
      "cell_type": "code",
      "execution_count": null,
      "metadata": {
        "scrolled": true,
        "id": "cyQy4KZfKIcV"
      },
      "outputs": [],
      "source": [
        "df.sort('Data_value_int')[['Data_value_int']].show(10)"
      ]
    },
    {
      "cell_type": "markdown",
      "metadata": {
        "id": "7jl8MHsxKIcW"
      },
      "source": [
        "#### 3.5 Aplicar filtros"
      ]
    },
    {
      "cell_type": "markdown",
      "metadata": {
        "id": "06lz0xPQKIcW"
      },
      "source": [
        "Simple"
      ]
    },
    {
      "cell_type": "code",
      "execution_count": null,
      "metadata": {
        "id": "vn-CN7RYKIcW"
      },
      "outputs": [],
      "source": [
        "df_filter = df.filter(df.Data_value_int > 100)"
      ]
    },
    {
      "cell_type": "code",
      "execution_count": null,
      "metadata": {
        "id": "yD4xh0J8KIcW"
      },
      "outputs": [],
      "source": [
        "df_filter.show(5)"
      ]
    },
    {
      "cell_type": "code",
      "execution_count": null,
      "metadata": {
        "id": "CMOLc_mLKIcW"
      },
      "outputs": [],
      "source": [
        "df.count(), df_filter.count()"
      ]
    },
    {
      "cell_type": "code",
      "execution_count": null,
      "metadata": {
        "id": "iX28QTxAKIcW"
      },
      "outputs": [],
      "source": [
        "df_filter = df.filter('Data_value_int > 100')"
      ]
    },
    {
      "cell_type": "code",
      "execution_count": null,
      "metadata": {
        "id": "N-DnzxStKIcX"
      },
      "outputs": [],
      "source": [
        "df.count(), df_filter.count()"
      ]
    },
    {
      "cell_type": "markdown",
      "metadata": {
        "id": "TLqlsoQ_KIcX"
      },
      "source": [
        "Varias columnas"
      ]
    },
    {
      "cell_type": "code",
      "execution_count": null,
      "metadata": {
        "id": "_l3jkpqYKIcX"
      },
      "outputs": [],
      "source": [
        "df_filter = df.filter((df.Data_value_int > 100) & (df.STATUS == 'R'))"
      ]
    },
    {
      "cell_type": "code",
      "execution_count": null,
      "metadata": {
        "id": "KsmzUXrVKIcX"
      },
      "outputs": [],
      "source": [
        "df_filter.show(5)"
      ]
    },
    {
      "cell_type": "code",
      "execution_count": null,
      "metadata": {
        "id": "KcJa1yILKIcX"
      },
      "outputs": [],
      "source": [
        "df.count(), df_filter.count()"
      ]
    },
    {
      "cell_type": "code",
      "execution_count": null,
      "metadata": {
        "id": "mNAHSzGCKIcY"
      },
      "outputs": [],
      "source": [
        "df_filter = df.filter(\"Data_value_int > 100 and STATUS = 'R'\")"
      ]
    },
    {
      "cell_type": "code",
      "execution_count": null,
      "metadata": {
        "id": "jO0JnPaRKIcY"
      },
      "outputs": [],
      "source": [
        "df.count(), df_filter.count()"
      ]
    },
    {
      "cell_type": "markdown",
      "metadata": {
        "id": "4JgNDhtyKIcY"
      },
      "source": [
        "#### 3.6 Separación de una columna (split)"
      ]
    },
    {
      "cell_type": "code",
      "execution_count": null,
      "metadata": {
        "id": "lD2X4-bSKIcY"
      },
      "outputs": [],
      "source": [
        "df_year = df\\\n",
        ".withColumn('Year', F.split('Period', '\\.')[0].cast(IntegerType()))\\\n",
        ".withColumn('Month', F.split('Period', '\\.')[1].cast(IntegerType()))"
      ]
    },
    {
      "cell_type": "code",
      "execution_count": null,
      "metadata": {
        "id": "CneKMe6IKIcZ"
      },
      "outputs": [],
      "source": [
        "df_year.show(5)"
      ]
    }
  ],
  "metadata": {
    "kernelspec": {
      "display_name": "Python 3",
      "language": "python",
      "name": "python3"
    },
    "language_info": {
      "codemirror_mode": {
        "name": "ipython",
        "version": 3
      },
      "file_extension": ".py",
      "mimetype": "text/x-python",
      "name": "python",
      "nbconvert_exporter": "python",
      "pygments_lexer": "ipython3",
      "version": "3.6.8"
    },
    "colab": {
      "provenance": []
    }
  },
  "nbformat": 4,
  "nbformat_minor": 0
}