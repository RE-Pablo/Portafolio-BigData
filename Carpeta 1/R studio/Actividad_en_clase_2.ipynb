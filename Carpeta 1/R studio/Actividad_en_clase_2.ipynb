{
  "nbformat": 4,
  "nbformat_minor": 0,
  "metadata": {
    "colab": {
      "provenance": []
    },
    "kernelspec": {
      "name": "python3",
      "display_name": "Python 3"
    },
    "language_info": {
      "name": "python"
    }
  },
  "cells": [
    {
      "cell_type": "markdown",
      "source": [
        "Autor: Pablo Elías Ramírez Escalante\n",
        "-----\n",
        "Fecha: 27/abril/2023"
      ],
      "metadata": {
        "id": "Z-7lW-J5N5rJ"
      }
    },
    {
      "cell_type": "code",
      "execution_count": null,
      "metadata": {
        "id": "QDUJh7mn9LeN"
      },
      "outputs": [],
      "source": [
        "%%capture\n",
        "!pip install rpy2==3.5.1"
      ]
    },
    {
      "cell_type": "code",
      "source": [
        "%load_ext rpy2.ipython"
      ],
      "metadata": {
        "id": "dlWlz5ze9TBu"
      },
      "execution_count": null,
      "outputs": []
    },
    {
      "cell_type": "code",
      "source": [
        "from google.colab import drive\n",
        "drive.mount(\"/content/drive\", force_remount=True)"
      ],
      "metadata": {
        "colab": {
          "base_uri": "https://localhost:8080/"
        },
        "id": "LXjVBzSR9U1g",
        "outputId": "54a967ea-debe-49b7-d1e3-ca0dd6c56f03"
      },
      "execution_count": null,
      "outputs": [
        {
          "output_type": "stream",
          "name": "stdout",
          "text": [
            "Mounted at /content/drive\n"
          ]
        }
      ]
    },
    {
      "cell_type": "code",
      "source": [
        "%%R\n",
        "library(readr)\n",
        "library(magrittr)\n",
        "library(dplyr)"
      ],
      "metadata": {
        "colab": {
          "base_uri": "https://localhost:8080/"
        },
        "id": "ejhNJjMX9Wh9",
        "outputId": "58c74359-2e90-4eac-a900-cad62b5b0182"
      },
      "execution_count": null,
      "outputs": [
        {
          "output_type": "stream",
          "name": "stderr",
          "text": [
            "WARNING:rpy2.rinterface_lib.callbacks:R[write to console]: \n",
            "Attaching package: ‘dplyr’\n",
            "\n",
            "\n",
            "WARNING:rpy2.rinterface_lib.callbacks:R[write to console]: The following objects are masked from ‘package:stats’:\n",
            "\n",
            "    filter, lag\n",
            "\n",
            "\n",
            "WARNING:rpy2.rinterface_lib.callbacks:R[write to console]: The following objects are masked from ‘package:base’:\n",
            "\n",
            "    intersect, setdiff, setequal, union\n",
            "\n",
            "\n"
          ]
        }
      ]
    },
    {
      "cell_type": "code",
      "source": [
        "%%R\n",
        "datos <- read.csv(\"drive/MyDrive/movies.csv\")"
      ],
      "metadata": {
        "id": "keMR4B-Z-ZtY"
      },
      "execution_count": null,
      "outputs": []
    },
    {
      "cell_type": "markdown",
      "source": [
        "0. ¿Cuantas peliculas tiene el conjunto de datos?"
      ],
      "metadata": {
        "id": "kEfqIKpG_F16"
      }
    },
    {
      "cell_type": "code",
      "source": [
        "%%R\n",
        "length(rownames(datos))"
      ],
      "metadata": {
        "colab": {
          "base_uri": "https://localhost:8080/"
        },
        "id": "RQM1Tnoj-oWB",
        "outputId": "a27a862b-cb75-48b2-f649-6a4df5e9db44"
      },
      "execution_count": null,
      "outputs": [
        {
          "output_type": "stream",
          "name": "stdout",
          "text": [
            "[1] 7668\n"
          ]
        }
      ]
    },
    {
      "cell_type": "code",
      "source": [
        "%%R\n",
        "colnames(datos)"
      ],
      "metadata": {
        "colab": {
          "base_uri": "https://localhost:8080/"
        },
        "id": "jO2RPPqL_1WA",
        "outputId": "0e262093-1dd2-41a5-d2ef-1d5cafb6fa91"
      },
      "execution_count": null,
      "outputs": [
        {
          "output_type": "stream",
          "name": "stdout",
          "text": [
            " [1] \"name\"     \"rating\"   \"genre\"    \"year\"     \"released\" \"score\"   \n",
            " [7] \"votes\"    \"director\" \"writer\"   \"star\"     \"country\"  \"budget\"  \n",
            "[13] \"gross\"    \"company\"  \"runtime\" \n"
          ]
        }
      ]
    },
    {
      "cell_type": "markdown",
      "source": [
        "1. ¿Cuales son los diferentes tipos de Clasificación (Rating) y cuantos registros existen por cada uno"
      ],
      "metadata": {
        "id": "s8y723vrApdf"
      }
    },
    {
      "cell_type": "code",
      "source": [
        "%%R\n",
        "datos %>%\n",
        "group_by(rating) %>%\n",
        "summarize(cantidad = n())"
      ],
      "metadata": {
        "colab": {
          "base_uri": "https://localhost:8080/"
        },
        "id": "Jfg5g0RtAyOp",
        "outputId": "7cfc99b4-87bc-4bd0-f81d-1dbf3359589a"
      },
      "execution_count": null,
      "outputs": [
        {
          "output_type": "stream",
          "name": "stdout",
          "text": [
            "# A tibble: 13 × 2\n",
            "   rating      cantidad\n",
            "   <chr>          <int>\n",
            " 1 \"\"                77\n",
            " 2 \"Approved\"         1\n",
            " 3 \"G\"              153\n",
            " 4 \"NC-17\"           23\n",
            " 5 \"Not Rated\"      283\n",
            " 6 \"PG\"            1252\n",
            " 7 \"PG-13\"         2112\n",
            " 8 \"R\"             3697\n",
            " 9 \"TV-14\"            1\n",
            "10 \"TV-MA\"            9\n",
            "11 \"TV-PG\"            5\n",
            "12 \"Unrated\"         52\n",
            "13 \"X\"                3\n"
          ]
        }
      ]
    },
    {
      "cell_type": "markdown",
      "source": [
        "2. ¿Cuales son los diferentes tipos de Género (Genre) y cuantos registros existen por cada uno?"
      ],
      "metadata": {
        "id": "83Kxzn-UBZtM"
      }
    },
    {
      "cell_type": "code",
      "source": [
        "%%R\n",
        "datos %>%\n",
        "group_by(genre) %>%\n",
        "summarize(cantidad = n())"
      ],
      "metadata": {
        "colab": {
          "base_uri": "https://localhost:8080/"
        },
        "id": "NkxsLSiTBqZe",
        "outputId": "3122e72a-026e-43cd-bcba-6a85f4f0d030"
      },
      "execution_count": null,
      "outputs": [
        {
          "output_type": "stream",
          "name": "stdout",
          "text": [
            "# A tibble: 19 × 2\n",
            "   genre     cantidad\n",
            "   <chr>        <int>\n",
            " 1 Action        1705\n",
            " 2 Adventure      427\n",
            " 3 Animation      338\n",
            " 4 Biography      443\n",
            " 5 Comedy        2245\n",
            " 6 Crime          551\n",
            " 7 Drama         1518\n",
            " 8 Family          11\n",
            " 9 Fantasy         44\n",
            "10 History          1\n",
            "11 Horror         322\n",
            "12 Music            1\n",
            "13 Musical          2\n",
            "14 Mystery         20\n",
            "15 Romance         10\n",
            "16 Sci-Fi          10\n",
            "17 Sport            1\n",
            "18 Thriller        16\n",
            "19 Western          3\n"
          ]
        }
      ]
    },
    {
      "cell_type": "markdown",
      "source": [
        "3. ¿Cuántas películas hay registradas por cada año?"
      ],
      "metadata": {
        "id": "BSYOJSyKDK8T"
      }
    },
    {
      "cell_type": "code",
      "source": [
        "%%R\n",
        "datos %>%\n",
        "group_by(year) %>%\n",
        "summarize(cantidad = n()) %>%\n",
        "print(n = 41)"
      ],
      "metadata": {
        "colab": {
          "base_uri": "https://localhost:8080/"
        },
        "id": "772PDtrbDPsc",
        "outputId": "485ba14b-7acf-473c-b1fd-c0aa1208f00a"
      },
      "execution_count": null,
      "outputs": [
        {
          "output_type": "stream",
          "name": "stdout",
          "text": [
            "# A tibble: 41 × 2\n",
            "    year cantidad\n",
            "   <int>    <int>\n",
            " 1  1980       92\n",
            " 2  1981      113\n",
            " 3  1982      126\n",
            " 4  1983      144\n",
            " 5  1984      168\n",
            " 6  1985      200\n",
            " 7  1986      200\n",
            " 8  1987      200\n",
            " 9  1988      200\n",
            "10  1989      200\n",
            "11  1990      200\n",
            "12  1991      200\n",
            "13  1992      200\n",
            "14  1993      200\n",
            "15  1994      200\n",
            "16  1995      200\n",
            "17  1996      200\n",
            "18  1997      200\n",
            "19  1998      200\n",
            "20  1999      200\n",
            "21  2000      200\n",
            "22  2001      200\n",
            "23  2002      200\n",
            "24  2003      200\n",
            "25  2004      200\n",
            "26  2005      200\n",
            "27  2006      200\n",
            "28  2007      200\n",
            "29  2008      200\n",
            "30  2009      200\n",
            "31  2010      200\n",
            "32  2011      200\n",
            "33  2012      200\n",
            "34  2013      200\n",
            "35  2014      200\n",
            "36  2015      200\n",
            "37  2016      200\n",
            "38  2017      200\n",
            "39  2018      200\n",
            "40  2019      200\n",
            "41  2020       25\n"
          ]
        }
      ]
    },
    {
      "cell_type": "markdown",
      "source": [
        "4. En promedio ¿Qué año tiene el Score más alto?"
      ],
      "metadata": {
        "id": "VCEMiIMJDq3J"
      }
    },
    {
      "cell_type": "code",
      "source": [
        "%%R\n",
        "datos %>%\n",
        "group_by(year) %>%\n",
        "summarize(cantidad = mean(score)) %>%\n",
        "arrange(desc(cantidad)) %>%\n",
        "head(n=2)"
      ],
      "metadata": {
        "colab": {
          "base_uri": "https://localhost:8080/"
        },
        "id": "kCxxXlgPD7ip",
        "outputId": "3b489524-bacf-4feb-d9c0-3d821d073b79"
      },
      "execution_count": null,
      "outputs": [
        {
          "output_type": "stream",
          "name": "stdout",
          "text": [
            "# A tibble: 2 × 2\n",
            "   year cantidad\n",
            "  <int>    <dbl>\n",
            "1  2016     6.62\n",
            "2  2013     6.62\n"
          ]
        }
      ]
    },
    {
      "cell_type": "markdown",
      "source": [
        "5. ¿Qué año tiene la cantidad de votos más alta?"
      ],
      "metadata": {
        "id": "WtutCXLrFHRn"
      }
    },
    {
      "cell_type": "code",
      "source": [
        "%%R\n",
        "datos %>%\n",
        "group_by(year) %>%\n",
        "summarize(cantidad = sum(votes)) %>%\n",
        "arrange(desc(cantidad)) %>%\n",
        "head(n=1)"
      ],
      "metadata": {
        "colab": {
          "base_uri": "https://localhost:8080/"
        },
        "id": "zc-FpKf_FLmr",
        "outputId": "060fc87b-4107-4ca8-d3ed-8b359c69f08b"
      },
      "execution_count": null,
      "outputs": [
        {
          "output_type": "stream",
          "name": "stdout",
          "text": [
            "# A tibble: 1 × 2\n",
            "   year cantidad\n",
            "  <int>    <dbl>\n",
            "1  2013 33093300\n"
          ]
        }
      ]
    },
    {
      "cell_type": "markdown",
      "source": [
        "6. ¿Qué directores han filamdo más de 5 peliculas?"
      ],
      "metadata": {
        "id": "oDD-CieuG1Om"
      }
    },
    {
      "cell_type": "code",
      "source": [
        "%%R\n",
        "datos %>%\n",
        "group_by(director) %>%\n",
        "summarize(cantidad = n()) %>%\n",
        "#filter(cantidad >= 5) %>%\n",
        "arrange(desc(cantidad)) %>%\n",
        "head(5)"
      ],
      "metadata": {
        "colab": {
          "base_uri": "https://localhost:8080/"
        },
        "id": "qBkd9Vb0G9VI",
        "outputId": "09410710-e55e-491c-b3e5-a6b03f0024f3"
      },
      "execution_count": null,
      "outputs": [
        {
          "output_type": "stream",
          "name": "stdout",
          "text": [
            "# A tibble: 5 × 2\n",
            "  director         cantidad\n",
            "  <chr>               <int>\n",
            "1 Woody Allen            38\n",
            "2 Clint Eastwood         31\n",
            "3 Directors              28\n",
            "4 Steven Spielberg       27\n",
            "5 Ron Howard             24\n"
          ]
        }
      ]
    },
    {
      "cell_type": "markdown",
      "source": [
        "7. ¿Quién es el actor protagonista que participo en más películas en las decadas de los 90, 00s, 10s, 20s)?"
      ],
      "metadata": {
        "id": "Sm551pbEGtbp"
      }
    },
    {
      "cell_type": "code",
      "source": [
        "%%R\n",
        "datos %>%\n",
        "mutate(decade = case_when(\n",
        "    year >= 1980 & year < 1990 ~ \"80s\",\n",
        "    year >= 1990 & year < 2000 ~ \"90s\",\n",
        "    year >= 2000 & year < 2010 ~ \"00s\",\n",
        "    year >= 2010 & year < 2020 ~ \"10s\",\n",
        "    year >= 2020 & year < 2030 ~ \"20s\"\n",
        ")) %>%\n",
        "select(decade, star) %>%\n",
        "group_by(decade, star) %>%\n",
        "summarize(num_peliculas = n()) %>%\n",
        "summarize(mejor_actor = star[which.max(num_peliculas)], num_pelis = max(num_peliculas))"
      ],
      "metadata": {
        "colab": {
          "base_uri": "https://localhost:8080/"
        },
        "id": "jMrs9nfFGsx9",
        "outputId": "5b849fb3-9e41-4215-fabe-c9472cf452e9"
      },
      "execution_count": null,
      "outputs": [
        {
          "output_type": "stream",
          "name": "stdout",
          "text": [
            "`summarise()` has grouped output by 'decade'. You can override using the\n",
            "`.groups` argument.\n",
            "# A tibble: 5 × 3\n",
            "  decade mejor_actor    num_pelis\n",
            "  <chr>  <chr>              <int>\n",
            "1 00s    Nicolas Cage          17\n",
            "2 10s    Dwayne Johnson        14\n",
            "3 20s    Augie Tulba            1\n",
            "4 80s    Burt Reynolds         14\n",
            "5 90s    Bruce Willis          15\n"
          ]
        }
      ]
    },
    {
      "cell_type": "markdown",
      "source": [
        "8. Top 10 de las peliculas con más presupuesto"
      ],
      "metadata": {
        "id": "B2nma74fMpWZ"
      }
    },
    {
      "cell_type": "code",
      "source": [
        "%%R\n",
        "datos %>%\n",
        "select(name, budget) %>%\n",
        "arrange(desc(budget)) %>%\n",
        "head(10)"
      ],
      "metadata": {
        "colab": {
          "base_uri": "https://localhost:8080/"
        },
        "id": "D4QXt1ffMtBw",
        "outputId": "047a3a15-f432-4f19-b818-fdde9eb2fd29"
      },
      "execution_count": null,
      "outputs": [
        {
          "output_type": "stream",
          "name": "stdout",
          "text": [
            "                                            name   budget\n",
            "1                              Avengers: Endgame 3.56e+08\n",
            "2                         Avengers: Infinity War 3.21e+08\n",
            "3        Star Wars: Episode VIII - The Last Jedi 3.17e+08\n",
            "4       Pirates of the Caribbean: at World's End 3.00e+08\n",
            "5                                 Justice League 3.00e+08\n",
            "6                        Solo: A Star Wars Story 2.75e+08\n",
            "7  Star Wars: Episode IX - The Rise of Skywalker 2.75e+08\n",
            "8                               Superman Returns 2.70e+08\n",
            "9                                        Tangled 2.60e+08\n",
            "10                                 The Lion King 2.60e+08\n"
          ]
        }
      ]
    }
  ]
}